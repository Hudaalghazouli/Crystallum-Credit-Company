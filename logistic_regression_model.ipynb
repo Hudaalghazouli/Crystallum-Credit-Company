{
 "cells": [
  {
   "cell_type": "code",
   "execution_count": null,
   "id": "0027ab30",
   "metadata": {},
   "outputs": [],
   "source": [
    "# these csv files have the information for our costumers\n",
    "# status column has six values in it \n",
    "# 0: 1-29 days past due 1: 30-59 days past due 2: 60-89 days overdue \n",
    "# 3: 90-119 days overdue 4: 120-149 days overdue \n",
    "# 5: Overdue or bad debts, write-offs for more than 150 days \n",
    "# C: paid off that month X: No loan for the month\n",
    "# in this model we're trying to predict if we can know the status of the payment for an existing cotumer based on \n",
    "# his information in our dataset in order to predict if a perspective applicant is going to be approved \n",
    "# if they apply to our bank\n",
    "# so we're basically (sending the data that we already have for our customers to a machine learning \n",
    "# to predict a model that will help us avoid having customer won't pay in the future)"
   ]
  },
  {
   "cell_type": "code",
   "execution_count": 1,
   "id": "8a99987e",
   "metadata": {},
   "outputs": [],
   "source": [
    "import pandas as pd\n",
    "import numpy as np\n",
    "import matplotlib.pyplot as plt\n",
    "import copy\n",
    "import math\n",
    "import statistics\n",
    "from statistics import mean\n",
    "from mpl_toolkits import mplot3d"
   ]
  },
  {
   "cell_type": "code",
   "execution_count": 2,
   "id": "939a157d",
   "metadata": {},
   "outputs": [],
   "source": [
    "from matplotlib import pyplot as plt\n",
    "from sklearn.datasets import make_classification\n",
    "from sklearn.ensemble import RandomForestClassifier\n",
    "from sklearn.linear_model import LogisticRegression\n",
    "from sklearn.model_selection import train_test_split\n",
    "from sklearn.preprocessing import StandardScaler"
   ]
  },
  {
   "cell_type": "code",
   "execution_count": 3,
   "id": "02ed620f",
   "metadata": {},
   "outputs": [],
   "source": [
    "%matplotlib inline\n",
    "from matplotlib import pyplot as plt\n",
    "from sklearn.datasets import make_regression, make_swiss_roll\n",
    "from sklearn.linear_model import LinearRegression, Ridge, Lasso, ElasticNet\n",
    "from sklearn.model_selection import train_test_split\n",
    "from sklearn.metrics import roc_curve"
   ]
  },
  {
   "cell_type": "code",
   "execution_count": 4,
   "id": "eea7ad6e",
   "metadata": {},
   "outputs": [],
   "source": [
    "applicationRecordCSv = pd.read_csv('Resources/application_record.csv')"
   ]
  },
  {
   "cell_type": "code",
   "execution_count": 5,
   "id": "319c3f63",
   "metadata": {},
   "outputs": [],
   "source": [
    "creditRecordCSv = pd.read_csv('Resources/credit_record.csv')"
   ]
  },
  {
   "cell_type": "code",
   "execution_count": 6,
   "id": "19f9cd72",
   "metadata": {},
   "outputs": [
    {
     "data": {
      "text/html": [
       "<div>\n",
       "<style scoped>\n",
       "    .dataframe tbody tr th:only-of-type {\n",
       "        vertical-align: middle;\n",
       "    }\n",
       "\n",
       "    .dataframe tbody tr th {\n",
       "        vertical-align: top;\n",
       "    }\n",
       "\n",
       "    .dataframe thead th {\n",
       "        text-align: right;\n",
       "    }\n",
       "</style>\n",
       "<table border=\"1\" class=\"dataframe\">\n",
       "  <thead>\n",
       "    <tr style=\"text-align: right;\">\n",
       "      <th></th>\n",
       "      <th>ID</th>\n",
       "      <th>CODE_GENDER</th>\n",
       "      <th>FLAG_OWN_CAR</th>\n",
       "      <th>FLAG_OWN_REALTY</th>\n",
       "      <th>CNT_CHILDREN</th>\n",
       "      <th>AMT_INCOME_TOTAL</th>\n",
       "      <th>NAME_INCOME_TYPE</th>\n",
       "      <th>NAME_EDUCATION_TYPE</th>\n",
       "      <th>NAME_FAMILY_STATUS</th>\n",
       "      <th>NAME_HOUSING_TYPE</th>\n",
       "      <th>DAYS_BIRTH</th>\n",
       "      <th>DAYS_EMPLOYED</th>\n",
       "      <th>FLAG_MOBIL</th>\n",
       "      <th>FLAG_WORK_PHONE</th>\n",
       "      <th>FLAG_PHONE</th>\n",
       "      <th>FLAG_EMAIL</th>\n",
       "      <th>OCCUPATION_TYPE</th>\n",
       "      <th>CNT_FAM_MEMBERS</th>\n",
       "    </tr>\n",
       "  </thead>\n",
       "  <tbody>\n",
       "    <tr>\n",
       "      <th>0</th>\n",
       "      <td>5008804</td>\n",
       "      <td>M</td>\n",
       "      <td>Y</td>\n",
       "      <td>Y</td>\n",
       "      <td>0</td>\n",
       "      <td>427500.0</td>\n",
       "      <td>Working</td>\n",
       "      <td>Higher education</td>\n",
       "      <td>Civil marriage</td>\n",
       "      <td>Rented apartment</td>\n",
       "      <td>-12005</td>\n",
       "      <td>-4542</td>\n",
       "      <td>1</td>\n",
       "      <td>1</td>\n",
       "      <td>0</td>\n",
       "      <td>0</td>\n",
       "      <td>NaN</td>\n",
       "      <td>2.0</td>\n",
       "    </tr>\n",
       "    <tr>\n",
       "      <th>1</th>\n",
       "      <td>5008805</td>\n",
       "      <td>M</td>\n",
       "      <td>Y</td>\n",
       "      <td>Y</td>\n",
       "      <td>0</td>\n",
       "      <td>427500.0</td>\n",
       "      <td>Working</td>\n",
       "      <td>Higher education</td>\n",
       "      <td>Civil marriage</td>\n",
       "      <td>Rented apartment</td>\n",
       "      <td>-12005</td>\n",
       "      <td>-4542</td>\n",
       "      <td>1</td>\n",
       "      <td>1</td>\n",
       "      <td>0</td>\n",
       "      <td>0</td>\n",
       "      <td>NaN</td>\n",
       "      <td>2.0</td>\n",
       "    </tr>\n",
       "    <tr>\n",
       "      <th>2</th>\n",
       "      <td>5008806</td>\n",
       "      <td>M</td>\n",
       "      <td>Y</td>\n",
       "      <td>Y</td>\n",
       "      <td>0</td>\n",
       "      <td>112500.0</td>\n",
       "      <td>Working</td>\n",
       "      <td>Secondary / secondary special</td>\n",
       "      <td>Married</td>\n",
       "      <td>House / apartment</td>\n",
       "      <td>-21474</td>\n",
       "      <td>-1134</td>\n",
       "      <td>1</td>\n",
       "      <td>0</td>\n",
       "      <td>0</td>\n",
       "      <td>0</td>\n",
       "      <td>Security staff</td>\n",
       "      <td>2.0</td>\n",
       "    </tr>\n",
       "    <tr>\n",
       "      <th>3</th>\n",
       "      <td>5008808</td>\n",
       "      <td>F</td>\n",
       "      <td>N</td>\n",
       "      <td>Y</td>\n",
       "      <td>0</td>\n",
       "      <td>270000.0</td>\n",
       "      <td>Commercial associate</td>\n",
       "      <td>Secondary / secondary special</td>\n",
       "      <td>Single / not married</td>\n",
       "      <td>House / apartment</td>\n",
       "      <td>-19110</td>\n",
       "      <td>-3051</td>\n",
       "      <td>1</td>\n",
       "      <td>0</td>\n",
       "      <td>1</td>\n",
       "      <td>1</td>\n",
       "      <td>Sales staff</td>\n",
       "      <td>1.0</td>\n",
       "    </tr>\n",
       "    <tr>\n",
       "      <th>4</th>\n",
       "      <td>5008809</td>\n",
       "      <td>F</td>\n",
       "      <td>N</td>\n",
       "      <td>Y</td>\n",
       "      <td>0</td>\n",
       "      <td>270000.0</td>\n",
       "      <td>Commercial associate</td>\n",
       "      <td>Secondary / secondary special</td>\n",
       "      <td>Single / not married</td>\n",
       "      <td>House / apartment</td>\n",
       "      <td>-19110</td>\n",
       "      <td>-3051</td>\n",
       "      <td>1</td>\n",
       "      <td>0</td>\n",
       "      <td>1</td>\n",
       "      <td>1</td>\n",
       "      <td>Sales staff</td>\n",
       "      <td>1.0</td>\n",
       "    </tr>\n",
       "    <tr>\n",
       "      <th>...</th>\n",
       "      <td>...</td>\n",
       "      <td>...</td>\n",
       "      <td>...</td>\n",
       "      <td>...</td>\n",
       "      <td>...</td>\n",
       "      <td>...</td>\n",
       "      <td>...</td>\n",
       "      <td>...</td>\n",
       "      <td>...</td>\n",
       "      <td>...</td>\n",
       "      <td>...</td>\n",
       "      <td>...</td>\n",
       "      <td>...</td>\n",
       "      <td>...</td>\n",
       "      <td>...</td>\n",
       "      <td>...</td>\n",
       "      <td>...</td>\n",
       "      <td>...</td>\n",
       "    </tr>\n",
       "    <tr>\n",
       "      <th>438552</th>\n",
       "      <td>6840104</td>\n",
       "      <td>M</td>\n",
       "      <td>N</td>\n",
       "      <td>Y</td>\n",
       "      <td>0</td>\n",
       "      <td>135000.0</td>\n",
       "      <td>Pensioner</td>\n",
       "      <td>Secondary / secondary special</td>\n",
       "      <td>Separated</td>\n",
       "      <td>House / apartment</td>\n",
       "      <td>-22717</td>\n",
       "      <td>365243</td>\n",
       "      <td>1</td>\n",
       "      <td>0</td>\n",
       "      <td>0</td>\n",
       "      <td>0</td>\n",
       "      <td>NaN</td>\n",
       "      <td>1.0</td>\n",
       "    </tr>\n",
       "    <tr>\n",
       "      <th>438553</th>\n",
       "      <td>6840222</td>\n",
       "      <td>F</td>\n",
       "      <td>N</td>\n",
       "      <td>N</td>\n",
       "      <td>0</td>\n",
       "      <td>103500.0</td>\n",
       "      <td>Working</td>\n",
       "      <td>Secondary / secondary special</td>\n",
       "      <td>Single / not married</td>\n",
       "      <td>House / apartment</td>\n",
       "      <td>-15939</td>\n",
       "      <td>-3007</td>\n",
       "      <td>1</td>\n",
       "      <td>0</td>\n",
       "      <td>0</td>\n",
       "      <td>0</td>\n",
       "      <td>Laborers</td>\n",
       "      <td>1.0</td>\n",
       "    </tr>\n",
       "    <tr>\n",
       "      <th>438554</th>\n",
       "      <td>6841878</td>\n",
       "      <td>F</td>\n",
       "      <td>N</td>\n",
       "      <td>N</td>\n",
       "      <td>0</td>\n",
       "      <td>54000.0</td>\n",
       "      <td>Commercial associate</td>\n",
       "      <td>Higher education</td>\n",
       "      <td>Single / not married</td>\n",
       "      <td>With parents</td>\n",
       "      <td>-8169</td>\n",
       "      <td>-372</td>\n",
       "      <td>1</td>\n",
       "      <td>1</td>\n",
       "      <td>0</td>\n",
       "      <td>0</td>\n",
       "      <td>Sales staff</td>\n",
       "      <td>1.0</td>\n",
       "    </tr>\n",
       "    <tr>\n",
       "      <th>438555</th>\n",
       "      <td>6842765</td>\n",
       "      <td>F</td>\n",
       "      <td>N</td>\n",
       "      <td>Y</td>\n",
       "      <td>0</td>\n",
       "      <td>72000.0</td>\n",
       "      <td>Pensioner</td>\n",
       "      <td>Secondary / secondary special</td>\n",
       "      <td>Married</td>\n",
       "      <td>House / apartment</td>\n",
       "      <td>-21673</td>\n",
       "      <td>365243</td>\n",
       "      <td>1</td>\n",
       "      <td>0</td>\n",
       "      <td>0</td>\n",
       "      <td>0</td>\n",
       "      <td>NaN</td>\n",
       "      <td>2.0</td>\n",
       "    </tr>\n",
       "    <tr>\n",
       "      <th>438556</th>\n",
       "      <td>6842885</td>\n",
       "      <td>F</td>\n",
       "      <td>N</td>\n",
       "      <td>Y</td>\n",
       "      <td>0</td>\n",
       "      <td>121500.0</td>\n",
       "      <td>Working</td>\n",
       "      <td>Secondary / secondary special</td>\n",
       "      <td>Married</td>\n",
       "      <td>House / apartment</td>\n",
       "      <td>-18858</td>\n",
       "      <td>-1201</td>\n",
       "      <td>1</td>\n",
       "      <td>0</td>\n",
       "      <td>1</td>\n",
       "      <td>0</td>\n",
       "      <td>Sales staff</td>\n",
       "      <td>2.0</td>\n",
       "    </tr>\n",
       "  </tbody>\n",
       "</table>\n",
       "<p>438557 rows × 18 columns</p>\n",
       "</div>"
      ],
      "text/plain": [
       "             ID CODE_GENDER FLAG_OWN_CAR FLAG_OWN_REALTY  CNT_CHILDREN  \\\n",
       "0       5008804           M            Y               Y             0   \n",
       "1       5008805           M            Y               Y             0   \n",
       "2       5008806           M            Y               Y             0   \n",
       "3       5008808           F            N               Y             0   \n",
       "4       5008809           F            N               Y             0   \n",
       "...         ...         ...          ...             ...           ...   \n",
       "438552  6840104           M            N               Y             0   \n",
       "438553  6840222           F            N               N             0   \n",
       "438554  6841878           F            N               N             0   \n",
       "438555  6842765           F            N               Y             0   \n",
       "438556  6842885           F            N               Y             0   \n",
       "\n",
       "        AMT_INCOME_TOTAL      NAME_INCOME_TYPE            NAME_EDUCATION_TYPE  \\\n",
       "0               427500.0               Working               Higher education   \n",
       "1               427500.0               Working               Higher education   \n",
       "2               112500.0               Working  Secondary / secondary special   \n",
       "3               270000.0  Commercial associate  Secondary / secondary special   \n",
       "4               270000.0  Commercial associate  Secondary / secondary special   \n",
       "...                  ...                   ...                            ...   \n",
       "438552          135000.0             Pensioner  Secondary / secondary special   \n",
       "438553          103500.0               Working  Secondary / secondary special   \n",
       "438554           54000.0  Commercial associate               Higher education   \n",
       "438555           72000.0             Pensioner  Secondary / secondary special   \n",
       "438556          121500.0               Working  Secondary / secondary special   \n",
       "\n",
       "          NAME_FAMILY_STATUS  NAME_HOUSING_TYPE  DAYS_BIRTH  DAYS_EMPLOYED  \\\n",
       "0             Civil marriage   Rented apartment      -12005          -4542   \n",
       "1             Civil marriage   Rented apartment      -12005          -4542   \n",
       "2                    Married  House / apartment      -21474          -1134   \n",
       "3       Single / not married  House / apartment      -19110          -3051   \n",
       "4       Single / not married  House / apartment      -19110          -3051   \n",
       "...                      ...                ...         ...            ...   \n",
       "438552             Separated  House / apartment      -22717         365243   \n",
       "438553  Single / not married  House / apartment      -15939          -3007   \n",
       "438554  Single / not married       With parents       -8169           -372   \n",
       "438555               Married  House / apartment      -21673         365243   \n",
       "438556               Married  House / apartment      -18858          -1201   \n",
       "\n",
       "        FLAG_MOBIL  FLAG_WORK_PHONE  FLAG_PHONE  FLAG_EMAIL OCCUPATION_TYPE  \\\n",
       "0                1                1           0           0             NaN   \n",
       "1                1                1           0           0             NaN   \n",
       "2                1                0           0           0  Security staff   \n",
       "3                1                0           1           1     Sales staff   \n",
       "4                1                0           1           1     Sales staff   \n",
       "...            ...              ...         ...         ...             ...   \n",
       "438552           1                0           0           0             NaN   \n",
       "438553           1                0           0           0        Laborers   \n",
       "438554           1                1           0           0     Sales staff   \n",
       "438555           1                0           0           0             NaN   \n",
       "438556           1                0           1           0     Sales staff   \n",
       "\n",
       "        CNT_FAM_MEMBERS  \n",
       "0                   2.0  \n",
       "1                   2.0  \n",
       "2                   2.0  \n",
       "3                   1.0  \n",
       "4                   1.0  \n",
       "...                 ...  \n",
       "438552              1.0  \n",
       "438553              1.0  \n",
       "438554              1.0  \n",
       "438555              2.0  \n",
       "438556              2.0  \n",
       "\n",
       "[438557 rows x 18 columns]"
      ]
     },
     "execution_count": 6,
     "metadata": {},
     "output_type": "execute_result"
    }
   ],
   "source": [
    "applicationRecordCSv"
   ]
  },
  {
   "cell_type": "code",
   "execution_count": 7,
   "id": "236878f8",
   "metadata": {},
   "outputs": [
    {
     "data": {
      "text/plain": [
       "Index(['ID', 'CODE_GENDER', 'FLAG_OWN_CAR', 'FLAG_OWN_REALTY', 'CNT_CHILDREN',\n",
       "       'AMT_INCOME_TOTAL', 'NAME_INCOME_TYPE', 'NAME_EDUCATION_TYPE',\n",
       "       'NAME_FAMILY_STATUS', 'NAME_HOUSING_TYPE', 'DAYS_BIRTH',\n",
       "       'DAYS_EMPLOYED', 'FLAG_MOBIL', 'FLAG_WORK_PHONE', 'FLAG_PHONE',\n",
       "       'FLAG_EMAIL', 'OCCUPATION_TYPE', 'CNT_FAM_MEMBERS'],\n",
       "      dtype='object')"
      ]
     },
     "execution_count": 7,
     "metadata": {},
     "output_type": "execute_result"
    }
   ],
   "source": [
    "applicationRecordCSv.columns"
   ]
  },
  {
   "cell_type": "code",
   "execution_count": 8,
   "id": "2520e3e2",
   "metadata": {},
   "outputs": [
    {
     "data": {
      "text/html": [
       "<div>\n",
       "<style scoped>\n",
       "    .dataframe tbody tr th:only-of-type {\n",
       "        vertical-align: middle;\n",
       "    }\n",
       "\n",
       "    .dataframe tbody tr th {\n",
       "        vertical-align: top;\n",
       "    }\n",
       "\n",
       "    .dataframe thead th {\n",
       "        text-align: right;\n",
       "    }\n",
       "</style>\n",
       "<table border=\"1\" class=\"dataframe\">\n",
       "  <thead>\n",
       "    <tr style=\"text-align: right;\">\n",
       "      <th></th>\n",
       "      <th>ID</th>\n",
       "      <th>MONTHS_BALANCE</th>\n",
       "      <th>STATUS</th>\n",
       "    </tr>\n",
       "  </thead>\n",
       "  <tbody>\n",
       "    <tr>\n",
       "      <th>0</th>\n",
       "      <td>5001711</td>\n",
       "      <td>0</td>\n",
       "      <td>X</td>\n",
       "    </tr>\n",
       "    <tr>\n",
       "      <th>1</th>\n",
       "      <td>5001711</td>\n",
       "      <td>-1</td>\n",
       "      <td>0</td>\n",
       "    </tr>\n",
       "    <tr>\n",
       "      <th>2</th>\n",
       "      <td>5001711</td>\n",
       "      <td>-2</td>\n",
       "      <td>0</td>\n",
       "    </tr>\n",
       "    <tr>\n",
       "      <th>3</th>\n",
       "      <td>5001711</td>\n",
       "      <td>-3</td>\n",
       "      <td>0</td>\n",
       "    </tr>\n",
       "    <tr>\n",
       "      <th>4</th>\n",
       "      <td>5001712</td>\n",
       "      <td>0</td>\n",
       "      <td>C</td>\n",
       "    </tr>\n",
       "    <tr>\n",
       "      <th>...</th>\n",
       "      <td>...</td>\n",
       "      <td>...</td>\n",
       "      <td>...</td>\n",
       "    </tr>\n",
       "    <tr>\n",
       "      <th>1048570</th>\n",
       "      <td>5150487</td>\n",
       "      <td>-25</td>\n",
       "      <td>C</td>\n",
       "    </tr>\n",
       "    <tr>\n",
       "      <th>1048571</th>\n",
       "      <td>5150487</td>\n",
       "      <td>-26</td>\n",
       "      <td>C</td>\n",
       "    </tr>\n",
       "    <tr>\n",
       "      <th>1048572</th>\n",
       "      <td>5150487</td>\n",
       "      <td>-27</td>\n",
       "      <td>C</td>\n",
       "    </tr>\n",
       "    <tr>\n",
       "      <th>1048573</th>\n",
       "      <td>5150487</td>\n",
       "      <td>-28</td>\n",
       "      <td>C</td>\n",
       "    </tr>\n",
       "    <tr>\n",
       "      <th>1048574</th>\n",
       "      <td>5150487</td>\n",
       "      <td>-29</td>\n",
       "      <td>C</td>\n",
       "    </tr>\n",
       "  </tbody>\n",
       "</table>\n",
       "<p>1048575 rows × 3 columns</p>\n",
       "</div>"
      ],
      "text/plain": [
       "              ID  MONTHS_BALANCE STATUS\n",
       "0        5001711               0      X\n",
       "1        5001711              -1      0\n",
       "2        5001711              -2      0\n",
       "3        5001711              -3      0\n",
       "4        5001712               0      C\n",
       "...          ...             ...    ...\n",
       "1048570  5150487             -25      C\n",
       "1048571  5150487             -26      C\n",
       "1048572  5150487             -27      C\n",
       "1048573  5150487             -28      C\n",
       "1048574  5150487             -29      C\n",
       "\n",
       "[1048575 rows x 3 columns]"
      ]
     },
     "execution_count": 8,
     "metadata": {},
     "output_type": "execute_result"
    }
   ],
   "source": [
    "creditRecordCSv"
   ]
  },
  {
   "cell_type": "code",
   "execution_count": 9,
   "id": "40731567",
   "metadata": {},
   "outputs": [
    {
     "data": {
      "text/plain": [
       "Index(['ID', 'MONTHS_BALANCE', 'STATUS'], dtype='object')"
      ]
     },
     "execution_count": 9,
     "metadata": {},
     "output_type": "execute_result"
    }
   ],
   "source": [
    "creditRecordCSv.columns"
   ]
  },
  {
   "cell_type": "code",
   "execution_count": 10,
   "id": "f0443024",
   "metadata": {},
   "outputs": [],
   "source": [
    "df = applicationRecordCSv.merge(creditRecordCSv,how='inner',on=['ID'])"
   ]
  },
  {
   "cell_type": "code",
   "execution_count": 11,
   "id": "0e6fb50d",
   "metadata": {},
   "outputs": [
    {
     "data": {
      "text/html": [
       "<div>\n",
       "<style scoped>\n",
       "    .dataframe tbody tr th:only-of-type {\n",
       "        vertical-align: middle;\n",
       "    }\n",
       "\n",
       "    .dataframe tbody tr th {\n",
       "        vertical-align: top;\n",
       "    }\n",
       "\n",
       "    .dataframe thead th {\n",
       "        text-align: right;\n",
       "    }\n",
       "</style>\n",
       "<table border=\"1\" class=\"dataframe\">\n",
       "  <thead>\n",
       "    <tr style=\"text-align: right;\">\n",
       "      <th></th>\n",
       "      <th>ID</th>\n",
       "      <th>CODE_GENDER</th>\n",
       "      <th>FLAG_OWN_CAR</th>\n",
       "      <th>FLAG_OWN_REALTY</th>\n",
       "      <th>CNT_CHILDREN</th>\n",
       "      <th>AMT_INCOME_TOTAL</th>\n",
       "      <th>NAME_INCOME_TYPE</th>\n",
       "      <th>NAME_EDUCATION_TYPE</th>\n",
       "      <th>NAME_FAMILY_STATUS</th>\n",
       "      <th>NAME_HOUSING_TYPE</th>\n",
       "      <th>DAYS_BIRTH</th>\n",
       "      <th>DAYS_EMPLOYED</th>\n",
       "      <th>FLAG_MOBIL</th>\n",
       "      <th>FLAG_WORK_PHONE</th>\n",
       "      <th>FLAG_PHONE</th>\n",
       "      <th>FLAG_EMAIL</th>\n",
       "      <th>OCCUPATION_TYPE</th>\n",
       "      <th>CNT_FAM_MEMBERS</th>\n",
       "      <th>MONTHS_BALANCE</th>\n",
       "      <th>STATUS</th>\n",
       "    </tr>\n",
       "  </thead>\n",
       "  <tbody>\n",
       "    <tr>\n",
       "      <th>0</th>\n",
       "      <td>5008804</td>\n",
       "      <td>M</td>\n",
       "      <td>Y</td>\n",
       "      <td>Y</td>\n",
       "      <td>0</td>\n",
       "      <td>427500.0</td>\n",
       "      <td>Working</td>\n",
       "      <td>Higher education</td>\n",
       "      <td>Civil marriage</td>\n",
       "      <td>Rented apartment</td>\n",
       "      <td>-12005</td>\n",
       "      <td>-4542</td>\n",
       "      <td>1</td>\n",
       "      <td>1</td>\n",
       "      <td>0</td>\n",
       "      <td>0</td>\n",
       "      <td>NaN</td>\n",
       "      <td>2.0</td>\n",
       "      <td>0</td>\n",
       "      <td>C</td>\n",
       "    </tr>\n",
       "    <tr>\n",
       "      <th>1</th>\n",
       "      <td>5008804</td>\n",
       "      <td>M</td>\n",
       "      <td>Y</td>\n",
       "      <td>Y</td>\n",
       "      <td>0</td>\n",
       "      <td>427500.0</td>\n",
       "      <td>Working</td>\n",
       "      <td>Higher education</td>\n",
       "      <td>Civil marriage</td>\n",
       "      <td>Rented apartment</td>\n",
       "      <td>-12005</td>\n",
       "      <td>-4542</td>\n",
       "      <td>1</td>\n",
       "      <td>1</td>\n",
       "      <td>0</td>\n",
       "      <td>0</td>\n",
       "      <td>NaN</td>\n",
       "      <td>2.0</td>\n",
       "      <td>-1</td>\n",
       "      <td>C</td>\n",
       "    </tr>\n",
       "    <tr>\n",
       "      <th>2</th>\n",
       "      <td>5008804</td>\n",
       "      <td>M</td>\n",
       "      <td>Y</td>\n",
       "      <td>Y</td>\n",
       "      <td>0</td>\n",
       "      <td>427500.0</td>\n",
       "      <td>Working</td>\n",
       "      <td>Higher education</td>\n",
       "      <td>Civil marriage</td>\n",
       "      <td>Rented apartment</td>\n",
       "      <td>-12005</td>\n",
       "      <td>-4542</td>\n",
       "      <td>1</td>\n",
       "      <td>1</td>\n",
       "      <td>0</td>\n",
       "      <td>0</td>\n",
       "      <td>NaN</td>\n",
       "      <td>2.0</td>\n",
       "      <td>-2</td>\n",
       "      <td>C</td>\n",
       "    </tr>\n",
       "    <tr>\n",
       "      <th>3</th>\n",
       "      <td>5008804</td>\n",
       "      <td>M</td>\n",
       "      <td>Y</td>\n",
       "      <td>Y</td>\n",
       "      <td>0</td>\n",
       "      <td>427500.0</td>\n",
       "      <td>Working</td>\n",
       "      <td>Higher education</td>\n",
       "      <td>Civil marriage</td>\n",
       "      <td>Rented apartment</td>\n",
       "      <td>-12005</td>\n",
       "      <td>-4542</td>\n",
       "      <td>1</td>\n",
       "      <td>1</td>\n",
       "      <td>0</td>\n",
       "      <td>0</td>\n",
       "      <td>NaN</td>\n",
       "      <td>2.0</td>\n",
       "      <td>-3</td>\n",
       "      <td>C</td>\n",
       "    </tr>\n",
       "    <tr>\n",
       "      <th>4</th>\n",
       "      <td>5008804</td>\n",
       "      <td>M</td>\n",
       "      <td>Y</td>\n",
       "      <td>Y</td>\n",
       "      <td>0</td>\n",
       "      <td>427500.0</td>\n",
       "      <td>Working</td>\n",
       "      <td>Higher education</td>\n",
       "      <td>Civil marriage</td>\n",
       "      <td>Rented apartment</td>\n",
       "      <td>-12005</td>\n",
       "      <td>-4542</td>\n",
       "      <td>1</td>\n",
       "      <td>1</td>\n",
       "      <td>0</td>\n",
       "      <td>0</td>\n",
       "      <td>NaN</td>\n",
       "      <td>2.0</td>\n",
       "      <td>-4</td>\n",
       "      <td>C</td>\n",
       "    </tr>\n",
       "    <tr>\n",
       "      <th>...</th>\n",
       "      <td>...</td>\n",
       "      <td>...</td>\n",
       "      <td>...</td>\n",
       "      <td>...</td>\n",
       "      <td>...</td>\n",
       "      <td>...</td>\n",
       "      <td>...</td>\n",
       "      <td>...</td>\n",
       "      <td>...</td>\n",
       "      <td>...</td>\n",
       "      <td>...</td>\n",
       "      <td>...</td>\n",
       "      <td>...</td>\n",
       "      <td>...</td>\n",
       "      <td>...</td>\n",
       "      <td>...</td>\n",
       "      <td>...</td>\n",
       "      <td>...</td>\n",
       "      <td>...</td>\n",
       "      <td>...</td>\n",
       "    </tr>\n",
       "    <tr>\n",
       "      <th>777710</th>\n",
       "      <td>5150337</td>\n",
       "      <td>M</td>\n",
       "      <td>N</td>\n",
       "      <td>Y</td>\n",
       "      <td>0</td>\n",
       "      <td>112500.0</td>\n",
       "      <td>Working</td>\n",
       "      <td>Secondary / secondary special</td>\n",
       "      <td>Single / not married</td>\n",
       "      <td>Rented apartment</td>\n",
       "      <td>-9188</td>\n",
       "      <td>-1193</td>\n",
       "      <td>1</td>\n",
       "      <td>0</td>\n",
       "      <td>0</td>\n",
       "      <td>0</td>\n",
       "      <td>Laborers</td>\n",
       "      <td>1.0</td>\n",
       "      <td>-9</td>\n",
       "      <td>0</td>\n",
       "    </tr>\n",
       "    <tr>\n",
       "      <th>777711</th>\n",
       "      <td>5150337</td>\n",
       "      <td>M</td>\n",
       "      <td>N</td>\n",
       "      <td>Y</td>\n",
       "      <td>0</td>\n",
       "      <td>112500.0</td>\n",
       "      <td>Working</td>\n",
       "      <td>Secondary / secondary special</td>\n",
       "      <td>Single / not married</td>\n",
       "      <td>Rented apartment</td>\n",
       "      <td>-9188</td>\n",
       "      <td>-1193</td>\n",
       "      <td>1</td>\n",
       "      <td>0</td>\n",
       "      <td>0</td>\n",
       "      <td>0</td>\n",
       "      <td>Laborers</td>\n",
       "      <td>1.0</td>\n",
       "      <td>-10</td>\n",
       "      <td>2</td>\n",
       "    </tr>\n",
       "    <tr>\n",
       "      <th>777712</th>\n",
       "      <td>5150337</td>\n",
       "      <td>M</td>\n",
       "      <td>N</td>\n",
       "      <td>Y</td>\n",
       "      <td>0</td>\n",
       "      <td>112500.0</td>\n",
       "      <td>Working</td>\n",
       "      <td>Secondary / secondary special</td>\n",
       "      <td>Single / not married</td>\n",
       "      <td>Rented apartment</td>\n",
       "      <td>-9188</td>\n",
       "      <td>-1193</td>\n",
       "      <td>1</td>\n",
       "      <td>0</td>\n",
       "      <td>0</td>\n",
       "      <td>0</td>\n",
       "      <td>Laborers</td>\n",
       "      <td>1.0</td>\n",
       "      <td>-11</td>\n",
       "      <td>1</td>\n",
       "    </tr>\n",
       "    <tr>\n",
       "      <th>777713</th>\n",
       "      <td>5150337</td>\n",
       "      <td>M</td>\n",
       "      <td>N</td>\n",
       "      <td>Y</td>\n",
       "      <td>0</td>\n",
       "      <td>112500.0</td>\n",
       "      <td>Working</td>\n",
       "      <td>Secondary / secondary special</td>\n",
       "      <td>Single / not married</td>\n",
       "      <td>Rented apartment</td>\n",
       "      <td>-9188</td>\n",
       "      <td>-1193</td>\n",
       "      <td>1</td>\n",
       "      <td>0</td>\n",
       "      <td>0</td>\n",
       "      <td>0</td>\n",
       "      <td>Laborers</td>\n",
       "      <td>1.0</td>\n",
       "      <td>-12</td>\n",
       "      <td>0</td>\n",
       "    </tr>\n",
       "    <tr>\n",
       "      <th>777714</th>\n",
       "      <td>5150337</td>\n",
       "      <td>M</td>\n",
       "      <td>N</td>\n",
       "      <td>Y</td>\n",
       "      <td>0</td>\n",
       "      <td>112500.0</td>\n",
       "      <td>Working</td>\n",
       "      <td>Secondary / secondary special</td>\n",
       "      <td>Single / not married</td>\n",
       "      <td>Rented apartment</td>\n",
       "      <td>-9188</td>\n",
       "      <td>-1193</td>\n",
       "      <td>1</td>\n",
       "      <td>0</td>\n",
       "      <td>0</td>\n",
       "      <td>0</td>\n",
       "      <td>Laborers</td>\n",
       "      <td>1.0</td>\n",
       "      <td>-13</td>\n",
       "      <td>0</td>\n",
       "    </tr>\n",
       "  </tbody>\n",
       "</table>\n",
       "<p>777715 rows × 20 columns</p>\n",
       "</div>"
      ],
      "text/plain": [
       "             ID CODE_GENDER FLAG_OWN_CAR FLAG_OWN_REALTY  CNT_CHILDREN  \\\n",
       "0       5008804           M            Y               Y             0   \n",
       "1       5008804           M            Y               Y             0   \n",
       "2       5008804           M            Y               Y             0   \n",
       "3       5008804           M            Y               Y             0   \n",
       "4       5008804           M            Y               Y             0   \n",
       "...         ...         ...          ...             ...           ...   \n",
       "777710  5150337           M            N               Y             0   \n",
       "777711  5150337           M            N               Y             0   \n",
       "777712  5150337           M            N               Y             0   \n",
       "777713  5150337           M            N               Y             0   \n",
       "777714  5150337           M            N               Y             0   \n",
       "\n",
       "        AMT_INCOME_TOTAL NAME_INCOME_TYPE            NAME_EDUCATION_TYPE  \\\n",
       "0               427500.0          Working               Higher education   \n",
       "1               427500.0          Working               Higher education   \n",
       "2               427500.0          Working               Higher education   \n",
       "3               427500.0          Working               Higher education   \n",
       "4               427500.0          Working               Higher education   \n",
       "...                  ...              ...                            ...   \n",
       "777710          112500.0          Working  Secondary / secondary special   \n",
       "777711          112500.0          Working  Secondary / secondary special   \n",
       "777712          112500.0          Working  Secondary / secondary special   \n",
       "777713          112500.0          Working  Secondary / secondary special   \n",
       "777714          112500.0          Working  Secondary / secondary special   \n",
       "\n",
       "          NAME_FAMILY_STATUS NAME_HOUSING_TYPE  DAYS_BIRTH  DAYS_EMPLOYED  \\\n",
       "0             Civil marriage  Rented apartment      -12005          -4542   \n",
       "1             Civil marriage  Rented apartment      -12005          -4542   \n",
       "2             Civil marriage  Rented apartment      -12005          -4542   \n",
       "3             Civil marriage  Rented apartment      -12005          -4542   \n",
       "4             Civil marriage  Rented apartment      -12005          -4542   \n",
       "...                      ...               ...         ...            ...   \n",
       "777710  Single / not married  Rented apartment       -9188          -1193   \n",
       "777711  Single / not married  Rented apartment       -9188          -1193   \n",
       "777712  Single / not married  Rented apartment       -9188          -1193   \n",
       "777713  Single / not married  Rented apartment       -9188          -1193   \n",
       "777714  Single / not married  Rented apartment       -9188          -1193   \n",
       "\n",
       "        FLAG_MOBIL  FLAG_WORK_PHONE  FLAG_PHONE  FLAG_EMAIL OCCUPATION_TYPE  \\\n",
       "0                1                1           0           0             NaN   \n",
       "1                1                1           0           0             NaN   \n",
       "2                1                1           0           0             NaN   \n",
       "3                1                1           0           0             NaN   \n",
       "4                1                1           0           0             NaN   \n",
       "...            ...              ...         ...         ...             ...   \n",
       "777710           1                0           0           0        Laborers   \n",
       "777711           1                0           0           0        Laborers   \n",
       "777712           1                0           0           0        Laborers   \n",
       "777713           1                0           0           0        Laborers   \n",
       "777714           1                0           0           0        Laborers   \n",
       "\n",
       "        CNT_FAM_MEMBERS  MONTHS_BALANCE STATUS  \n",
       "0                   2.0               0      C  \n",
       "1                   2.0              -1      C  \n",
       "2                   2.0              -2      C  \n",
       "3                   2.0              -3      C  \n",
       "4                   2.0              -4      C  \n",
       "...                 ...             ...    ...  \n",
       "777710              1.0              -9      0  \n",
       "777711              1.0             -10      2  \n",
       "777712              1.0             -11      1  \n",
       "777713              1.0             -12      0  \n",
       "777714              1.0             -13      0  \n",
       "\n",
       "[777715 rows x 20 columns]"
      ]
     },
     "execution_count": 11,
     "metadata": {},
     "output_type": "execute_result"
    }
   ],
   "source": [
    "df"
   ]
  },
  {
   "cell_type": "code",
   "execution_count": 12,
   "id": "b6231a0f",
   "metadata": {},
   "outputs": [
    {
     "name": "stdout",
     "output_type": "stream",
     "text": [
      "ID\n",
      "------------------\n",
      "5090630    61\n",
      "5148524    61\n",
      "5066707    61\n",
      "5061848    61\n",
      "5118380    61\n",
      "           ..\n",
      "5024557     1\n",
      "5062311     1\n",
      "5024365     1\n",
      "5024364     1\n",
      "5041568     1\n",
      "Name: ID, Length: 36457, dtype: int64\n",
      "------------------\n",
      "CODE_GENDER\n",
      "------------------\n",
      "F    518851\n",
      "M    258864\n",
      "Name: CODE_GENDER, dtype: int64\n",
      "------------------\n",
      "FLAG_OWN_CAR\n",
      "------------------\n",
      "N    473355\n",
      "Y    304360\n",
      "Name: FLAG_OWN_CAR, dtype: int64\n",
      "------------------\n",
      "FLAG_OWN_REALTY\n",
      "------------------\n",
      "Y    512948\n",
      "N    264767\n",
      "Name: FLAG_OWN_REALTY, dtype: int64\n",
      "------------------\n",
      "CNT_CHILDREN\n",
      "------------------\n",
      "0     540639\n",
      "1     155638\n",
      "2      70399\n",
      "3       9328\n",
      "4       1224\n",
      "5        324\n",
      "14       111\n",
      "7         46\n",
      "19         6\n",
      "Name: CNT_CHILDREN, dtype: int64\n",
      "------------------\n",
      "AMT_INCOME_TOTAL\n",
      "------------------\n",
      "135000.0    90217\n",
      "180000.0    68579\n",
      "157500.0    62686\n",
      "112500.0    61622\n",
      "225000.0    61399\n",
      "            ...  \n",
      "51750.0         7\n",
      "89550.0         5\n",
      "594000.0        4\n",
      "151200.0        2\n",
      "134995.5        2\n",
      "Name: AMT_INCOME_TOTAL, Length: 265, dtype: int64\n",
      "------------------\n",
      "NAME_INCOME_TYPE\n",
      "------------------\n",
      "Working                 400164\n",
      "Commercial associate    183385\n",
      "Pensioner               128392\n",
      "State servant            65437\n",
      "Student                    337\n",
      "Name: NAME_INCOME_TYPE, dtype: int64\n",
      "------------------\n",
      "NAME_EDUCATION_TYPE\n",
      "------------------\n",
      "Secondary / secondary special    524261\n",
      "Higher education                 213633\n",
      "Incomplete higher                 30329\n",
      "Lower secondary                    8655\n",
      "Academic degree                     837\n",
      "Name: NAME_EDUCATION_TYPE, dtype: int64\n",
      "------------------\n",
      "NAME_FAMILY_STATUS\n",
      "------------------\n",
      "Married                 546619\n",
      "Single / not married     94335\n",
      "Civil marriage           60342\n",
      "Separated                45255\n",
      "Widow                    31164\n",
      "Name: NAME_FAMILY_STATUS, dtype: int64\n",
      "------------------\n",
      "NAME_HOUSING_TYPE\n",
      "------------------\n",
      "House / apartment      697151\n",
      "With parents            35735\n",
      "Municipal apartment     24640\n",
      "Rented apartment        10898\n",
      "Office apartment         5636\n",
      "Co-op apartment          3655\n",
      "Name: NAME_HOUSING_TYPE, dtype: int64\n",
      "------------------\n",
      "DAYS_BIRTH\n",
      "------------------\n",
      "-14667    1018\n",
      "-15140     928\n",
      "-15675     835\n",
      "-15519     799\n",
      "-16995     799\n",
      "          ... \n",
      "-18983       1\n",
      "-10119       1\n",
      "-19526       1\n",
      "-7489        1\n",
      "-9177        1\n",
      "Name: DAYS_BIRTH, Length: 7183, dtype: int64\n",
      "------------------\n",
      "DAYS_EMPLOYED\n",
      "------------------\n",
      " 365243    127972\n",
      "-1751        1601\n",
      "-1539        1545\n",
      "-401         1498\n",
      "-2531        1319\n",
      "            ...  \n",
      "-3294           1\n",
      "-3891           1\n",
      "-7049           1\n",
      "-7765           1\n",
      "-2848           1\n",
      "Name: DAYS_EMPLOYED, Length: 3640, dtype: int64\n",
      "------------------\n",
      "FLAG_MOBIL\n",
      "------------------\n",
      "1    777715\n",
      "Name: FLAG_MOBIL, dtype: int64\n",
      "------------------\n",
      "FLAG_WORK_PHONE\n",
      "------------------\n",
      "0    597427\n",
      "1    180288\n",
      "Name: FLAG_WORK_PHONE, dtype: int64\n",
      "------------------\n",
      "FLAG_PHONE\n",
      "------------------\n",
      "0    543650\n",
      "1    234065\n",
      "Name: FLAG_PHONE, dtype: int64\n",
      "------------------\n",
      "FLAG_EMAIL\n",
      "------------------\n",
      "0    706418\n",
      "1     71297\n",
      "Name: FLAG_EMAIL, dtype: int64\n",
      "------------------\n",
      "OCCUPATION_TYPE\n",
      "------------------\n",
      "Laborers                 131572\n",
      "Core staff                77112\n",
      "Sales staff               70362\n",
      "Managers                  67738\n",
      "Drivers                   47678\n",
      "High skill tech staff     31768\n",
      "Accountants               27223\n",
      "Medicine staff            26691\n",
      "Cooking staff             13416\n",
      "Security staff            12400\n",
      "Cleaning staff            11399\n",
      "Private service staff      6714\n",
      "Low-skill Laborers         3623\n",
      "Secretaries                3149\n",
      "Waiters/barmen staff       2557\n",
      "HR staff                   1686\n",
      "IT staff                   1319\n",
      "Realty agents              1260\n",
      "Name: OCCUPATION_TYPE, dtype: int64\n",
      "------------------\n",
      "CNT_FAM_MEMBERS\n",
      "------------------\n",
      "2.0     423723\n",
      "1.0     141477\n",
      "3.0     134894\n",
      "4.0      66990\n",
      "5.0       8999\n",
      "6.0       1196\n",
      "7.0        273\n",
      "15.0       111\n",
      "9.0         46\n",
      "20.0         6\n",
      "Name: CNT_FAM_MEMBERS, dtype: int64\n",
      "------------------\n",
      "MONTHS_BALANCE\n",
      "------------------\n",
      "-1     24963\n",
      "-2     24871\n",
      " 0     24672\n",
      "-3     24644\n",
      "-4     24274\n",
      "       ...  \n",
      "-56     1588\n",
      "-57     1253\n",
      "-58      955\n",
      "-59      627\n",
      "-60      321\n",
      "Name: MONTHS_BALANCE, Length: 61, dtype: int64\n",
      "------------------\n",
      "STATUS\n",
      "------------------\n",
      "C    329536\n",
      "0    290654\n",
      "X    145950\n",
      "1      8747\n",
      "5      1527\n",
      "2       801\n",
      "3       286\n",
      "4       214\n",
      "Name: STATUS, dtype: int64\n",
      "------------------\n"
     ]
    }
   ],
   "source": [
    "for i in df.columns:\n",
    "    value = df[i].value_counts()\n",
    "    print(f'{i}')\n",
    "    print('------------------')\n",
    "    print(value)\n",
    "    print('------------------')\n"
   ]
  },
  {
   "cell_type": "code",
   "execution_count": 13,
   "id": "f9f300ba",
   "metadata": {},
   "outputs": [
    {
     "name": "stdout",
     "output_type": "stream",
     "text": [
      "ID\n",
      "------------------\n",
      "0\n",
      "------------------\n",
      "CODE_GENDER\n",
      "------------------\n",
      "0\n",
      "------------------\n",
      "FLAG_OWN_CAR\n",
      "------------------\n",
      "0\n",
      "------------------\n",
      "FLAG_OWN_REALTY\n",
      "------------------\n",
      "0\n",
      "------------------\n",
      "CNT_CHILDREN\n",
      "------------------\n",
      "0\n",
      "------------------\n",
      "AMT_INCOME_TOTAL\n",
      "------------------\n",
      "0\n",
      "------------------\n",
      "NAME_INCOME_TYPE\n",
      "------------------\n",
      "0\n",
      "------------------\n",
      "NAME_EDUCATION_TYPE\n",
      "------------------\n",
      "0\n",
      "------------------\n",
      "NAME_FAMILY_STATUS\n",
      "------------------\n",
      "0\n",
      "------------------\n",
      "NAME_HOUSING_TYPE\n",
      "------------------\n",
      "0\n",
      "------------------\n",
      "DAYS_BIRTH\n",
      "------------------\n",
      "0\n",
      "------------------\n",
      "DAYS_EMPLOYED\n",
      "------------------\n",
      "0\n",
      "------------------\n",
      "FLAG_MOBIL\n",
      "------------------\n",
      "0\n",
      "------------------\n",
      "FLAG_WORK_PHONE\n",
      "------------------\n",
      "0\n",
      "------------------\n",
      "FLAG_PHONE\n",
      "------------------\n",
      "0\n",
      "------------------\n",
      "FLAG_EMAIL\n",
      "------------------\n",
      "0\n",
      "------------------\n",
      "OCCUPATION_TYPE\n",
      "------------------\n",
      "240048\n",
      "------------------\n",
      "CNT_FAM_MEMBERS\n",
      "------------------\n",
      "0\n",
      "------------------\n",
      "MONTHS_BALANCE\n",
      "------------------\n",
      "0\n",
      "------------------\n",
      "STATUS\n",
      "------------------\n",
      "0\n",
      "------------------\n"
     ]
    }
   ],
   "source": [
    "for i in df.columns:\n",
    "    nullSum = df[i].isna().sum()\n",
    "    print(f'{i}')\n",
    "    print('------------------')\n",
    "    print(nullSum)\n",
    "    print('------------------')\n"
   ]
  },
  {
   "cell_type": "code",
   "execution_count": 14,
   "id": "581a690b",
   "metadata": {},
   "outputs": [],
   "source": [
    "df['OCCUPATION_TYPE'].fillna('Other',inplace=True)"
   ]
  },
  {
   "cell_type": "code",
   "execution_count": 15,
   "id": "1b083faf",
   "metadata": {},
   "outputs": [
    {
     "data": {
      "text/plain": [
       "Other                    240048\n",
       "Laborers                 131572\n",
       "Core staff                77112\n",
       "Sales staff               70362\n",
       "Managers                  67738\n",
       "Drivers                   47678\n",
       "High skill tech staff     31768\n",
       "Accountants               27223\n",
       "Medicine staff            26691\n",
       "Cooking staff             13416\n",
       "Security staff            12400\n",
       "Cleaning staff            11399\n",
       "Private service staff      6714\n",
       "Low-skill Laborers         3623\n",
       "Secretaries                3149\n",
       "Waiters/barmen staff       2557\n",
       "HR staff                   1686\n",
       "IT staff                   1319\n",
       "Realty agents              1260\n",
       "Name: OCCUPATION_TYPE, dtype: int64"
      ]
     },
     "execution_count": 15,
     "metadata": {},
     "output_type": "execute_result"
    }
   ],
   "source": [
    "df['OCCUPATION_TYPE'].value_counts()"
   ]
  },
  {
   "cell_type": "code",
   "execution_count": 16,
   "id": "aa8d1ad8",
   "metadata": {},
   "outputs": [],
   "source": [
    "df.drop('FLAG_MOBIL',axis=1,inplace=True)"
   ]
  },
  {
   "cell_type": "code",
   "execution_count": 17,
   "id": "ec99fc6d",
   "metadata": {},
   "outputs": [],
   "source": [
    "df2 = df.copy()"
   ]
  },
  {
   "cell_type": "code",
   "execution_count": 18,
   "id": "77a2f8ba",
   "metadata": {},
   "outputs": [],
   "source": [
    "#Modifying the Status column so it can hold only 0 or 1 for \n",
    "# the logistic regression model\n",
    "# c and x are the only status without debt so we decided to convert c and x \n",
    "# to 1 and all other status with past due or over due \n",
    "def new_status(sample):\n",
    "    if sample=='C' or sample=='X':\n",
    "        return 1\n",
    "    else:\n",
    "        return 0\n",
    "    \n",
    "    "
   ]
  },
  {
   "cell_type": "code",
   "execution_count": 19,
   "id": "24420a1b",
   "metadata": {},
   "outputs": [],
   "source": [
    "df2['STATUS'] = df2['STATUS'].apply(new_status)"
   ]
  },
  {
   "cell_type": "code",
   "execution_count": 20,
   "id": "f7c9f3be",
   "metadata": {},
   "outputs": [
    {
     "data": {
      "text/plain": [
       "1    475486\n",
       "0    302229\n",
       "Name: STATUS, dtype: int64"
      ]
     },
     "execution_count": 20,
     "metadata": {},
     "output_type": "execute_result"
    }
   ],
   "source": [
    "df2['STATUS'].value_counts()"
   ]
  },
  {
   "cell_type": "code",
   "execution_count": 21,
   "id": "7f17bc17",
   "metadata": {},
   "outputs": [
    {
     "data": {
      "text/plain": [
       "C    329536\n",
       "0    290654\n",
       "X    145950\n",
       "1      8747\n",
       "5      1527\n",
       "2       801\n",
       "3       286\n",
       "4       214\n",
       "Name: STATUS, dtype: int64"
      ]
     },
     "execution_count": 21,
     "metadata": {},
     "output_type": "execute_result"
    }
   ],
   "source": [
    "df['STATUS'].value_counts()"
   ]
  },
  {
   "cell_type": "code",
   "execution_count": 22,
   "id": "805c9d30",
   "metadata": {},
   "outputs": [
    {
     "data": {
      "image/png": "[encoded data removed]",
      "text/plain": [
       "<Figure size 432x288 with 1 Axes>"
      ]
     },
     "metadata": {
      "needs_background": "light"
     },
     "output_type": "display_data"
    },
    {
     "data": {
      "image/png": "[encoded data removed]",
      "text/plain": [
       "<Figure size 432x288 with 1 Axes>"
      ]
     },
     "metadata": {
      "needs_background": "light"
     },
     "output_type": "display_data"
    },
    {
     "data": {
      "image/png": "[encoded data removed]",
      "text/plain": [
       "<Figure size 432x288 with 1 Axes>"
      ]
     },
     "metadata": {
      "needs_background": "light"
     },
     "output_type": "display_data"
    },
    {
     "data": {
      "image/png": "[encoded data removed]",
      "text/plain": [
       "<Figure size 432x288 with 1 Axes>"
      ]
     },
     "metadata": {
      "needs_background": "light"
     },
     "output_type": "display_data"
    },
    {
     "data": {
      "image/png": "[encoded data removed]",
      "text/plain": [
       "<Figure size 432x288 with 1 Axes>"
      ]
     },
     "metadata": {
      "needs_background": "light"
     },
     "output_type": "display_data"
    },
    {
     "data": {
      "image/png": "[encoded data removed]",
      "text/plain": [
       "<Figure size 432x288 with 1 Axes>"
      ]
     },
     "metadata": {
      "needs_background": "light"
     },
     "output_type": "display_data"
    },
    {
     "data": {
      "image/png": "[encoded data removed]",
      "text/plain": [
       "<Figure size 432x288 with 1 Axes>"
      ]
     },
     "metadata": {
      "needs_background": "light"
     },
     "output_type": "display_data"
    },
    {
     "data": {
      "image/png": "[encoded data removed]",
      "text/plain": [
       "<Figure size 432x288 with 1 Axes>"
      ]
     },
     "metadata": {
      "needs_background": "light"
     },
     "output_type": "display_data"
    },
    {
     "data": {
      "image/png": "[encoded data removed]",
      "text/plain": [
       "<Figure size 432x288 with 1 Axes>"
      ]
     },
     "metadata": {
      "needs_background": "light"
     },
     "output_type": "display_data"
    },
    {
     "data": {
      "image/png": "[encoded data removed]",
      "text/plain": [
       "<Figure size 432x288 with 1 Axes>"
      ]
     },
     "metadata": {
      "needs_background": "light"
     },
     "output_type": "display_data"
    },
    {
     "data": {
      "image/png": "[encoded data removed]",
      "text/plain": [
       "<Figure size 432x288 with 1 Axes>"
      ]
     },
     "metadata": {
      "needs_background": "light"
     },
     "output_type": "display_data"
    },
    {
     "data": {
      "image/png": "[encoded data removed]",
      "text/plain": [
       "<Figure size 432x288 with 1 Axes>"
      ]
     },
     "metadata": {
      "needs_background": "light"
     },
     "output_type": "display_data"
    },
    {
     "data": {
      "image/png": "[encoded data removed]",
      "text/plain": [
       "<Figure size 432x288 with 1 Axes>"
      ]
     },
     "metadata": {
      "needs_background": "light"
     },
     "output_type": "display_data"
    },
    {
     "data": {
      "image/png": "[encoded data removed]",
      "text/plain": [
       "<Figure size 432x288 with 1 Axes>"
      ]
     },
     "metadata": {
      "needs_background": "light"
     },
     "output_type": "display_data"
    },
    {
     "data": {
      "image/png": "[encoded data removed]",
      "text/plain": [
       "<Figure size 432x288 with 1 Axes>"
      ]
     },
     "metadata": {
      "needs_background": "light"
     },
     "output_type": "display_data"
    },
    {
     "data": {
      "image/png": "[encoded data removed]",
      "text/plain": [
       "<Figure size 432x288 with 1 Axes>"
      ]
     },
     "metadata": {
      "needs_background": "light"
     },
     "output_type": "display_data"
    },
    {
     "data": {
      "image/png": "[encoded data removed]",
      "text/plain": [
       "<Figure size 432x288 with 1 Axes>"
      ]
     },
     "metadata": {
      "needs_background": "light"
     },
     "output_type": "display_data"
    },
    {
     "data": {
      "image/png": "[encoded data removed]",
      "text/plain": [
       "<Figure size 432x288 with 1 Axes>"
      ]
     },
     "metadata": {
      "needs_background": "light"
     },
     "output_type": "display_data"
    }
   ],
   "source": [
    "# create a scatter plot for column status with other columns\n",
    "for i in df2.columns:\n",
    "    if i != 'STATUS':\n",
    "        plt.scatter(df2[i], df2['STATUS'])\n",
    "        plt.xlabel(i)\n",
    "        plt.ylabel(\"STATUS\")\n",
    "        plt.show()"
   ]
  },
  {
   "cell_type": "code",
   "execution_count": 23,
   "id": "7651ea6e",
   "metadata": {},
   "outputs": [
    {
     "name": "stdout",
     "output_type": "stream",
     "text": [
      "Index(['ID', 'CNT_CHILDREN', 'AMT_INCOME_TOTAL', 'DAYS_BIRTH', 'DAYS_EMPLOYED',\n",
      "       'FLAG_WORK_PHONE', 'FLAG_PHONE', 'FLAG_EMAIL', 'CNT_FAM_MEMBERS',\n",
      "       'MONTHS_BALANCE', 'STATUS', 'CODE_GENDER_F', 'CODE_GENDER_M',\n",
      "       'FLAG_OWN_CAR_N', 'FLAG_OWN_CAR_Y', 'FLAG_OWN_REALTY_N',\n",
      "       'FLAG_OWN_REALTY_Y', 'NAME_INCOME_TYPE_Commercial associate',\n",
      "       'NAME_INCOME_TYPE_Pensioner', 'NAME_INCOME_TYPE_State servant',\n",
      "       'NAME_INCOME_TYPE_Student', 'NAME_INCOME_TYPE_Working',\n",
      "       'NAME_EDUCATION_TYPE_Academic degree',\n",
      "       'NAME_EDUCATION_TYPE_Higher education',\n",
      "       'NAME_EDUCATION_TYPE_Incomplete higher',\n",
      "       'NAME_EDUCATION_TYPE_Lower secondary',\n",
      "       'NAME_EDUCATION_TYPE_Secondary / secondary special',\n",
      "       'NAME_FAMILY_STATUS_Civil marriage', 'NAME_FAMILY_STATUS_Married',\n",
      "       'NAME_FAMILY_STATUS_Separated',\n",
      "       'NAME_FAMILY_STATUS_Single / not married', 'NAME_FAMILY_STATUS_Widow',\n",
      "       'NAME_HOUSING_TYPE_Co-op apartment',\n",
      "       'NAME_HOUSING_TYPE_House / apartment',\n",
      "       'NAME_HOUSING_TYPE_Municipal apartment',\n",
      "       'NAME_HOUSING_TYPE_Office apartment',\n",
      "       'NAME_HOUSING_TYPE_Rented apartment', 'NAME_HOUSING_TYPE_With parents',\n",
      "       'OCCUPATION_TYPE_Accountants', 'OCCUPATION_TYPE_Cleaning staff',\n",
      "       'OCCUPATION_TYPE_Cooking staff', 'OCCUPATION_TYPE_Core staff',\n",
      "       'OCCUPATION_TYPE_Drivers', 'OCCUPATION_TYPE_HR staff',\n",
      "       'OCCUPATION_TYPE_High skill tech staff', 'OCCUPATION_TYPE_IT staff',\n",
      "       'OCCUPATION_TYPE_Laborers', 'OCCUPATION_TYPE_Low-skill Laborers',\n",
      "       'OCCUPATION_TYPE_Managers', 'OCCUPATION_TYPE_Medicine staff',\n",
      "       'OCCUPATION_TYPE_Other', 'OCCUPATION_TYPE_Private service staff',\n",
      "       'OCCUPATION_TYPE_Realty agents', 'OCCUPATION_TYPE_Sales staff',\n",
      "       'OCCUPATION_TYPE_Secretaries', 'OCCUPATION_TYPE_Security staff',\n",
      "       'OCCUPATION_TYPE_Waiters/barmen staff'],\n",
      "      dtype='object')\n"
     ]
    },
    {
     "data": {
      "text/html": [
       "<div>\n",
       "<style scoped>\n",
       "    .dataframe tbody tr th:only-of-type {\n",
       "        vertical-align: middle;\n",
       "    }\n",
       "\n",
       "    .dataframe tbody tr th {\n",
       "        vertical-align: top;\n",
       "    }\n",
       "\n",
       "    .dataframe thead th {\n",
       "        text-align: right;\n",
       "    }\n",
       "</style>\n",
       "<table border=\"1\" class=\"dataframe\">\n",
       "  <thead>\n",
       "    <tr style=\"text-align: right;\">\n",
       "      <th></th>\n",
       "      <th>ID</th>\n",
       "      <th>CNT_CHILDREN</th>\n",
       "      <th>AMT_INCOME_TOTAL</th>\n",
       "      <th>DAYS_BIRTH</th>\n",
       "      <th>DAYS_EMPLOYED</th>\n",
       "      <th>FLAG_WORK_PHONE</th>\n",
       "      <th>FLAG_PHONE</th>\n",
       "      <th>FLAG_EMAIL</th>\n",
       "      <th>CNT_FAM_MEMBERS</th>\n",
       "      <th>MONTHS_BALANCE</th>\n",
       "      <th>...</th>\n",
       "      <th>OCCUPATION_TYPE_Low-skill Laborers</th>\n",
       "      <th>OCCUPATION_TYPE_Managers</th>\n",
       "      <th>OCCUPATION_TYPE_Medicine staff</th>\n",
       "      <th>OCCUPATION_TYPE_Other</th>\n",
       "      <th>OCCUPATION_TYPE_Private service staff</th>\n",
       "      <th>OCCUPATION_TYPE_Realty agents</th>\n",
       "      <th>OCCUPATION_TYPE_Sales staff</th>\n",
       "      <th>OCCUPATION_TYPE_Secretaries</th>\n",
       "      <th>OCCUPATION_TYPE_Security staff</th>\n",
       "      <th>OCCUPATION_TYPE_Waiters/barmen staff</th>\n",
       "    </tr>\n",
       "  </thead>\n",
       "  <tbody>\n",
       "    <tr>\n",
       "      <th>0</th>\n",
       "      <td>5008804</td>\n",
       "      <td>0</td>\n",
       "      <td>427500.0</td>\n",
       "      <td>-12005</td>\n",
       "      <td>-4542</td>\n",
       "      <td>1</td>\n",
       "      <td>0</td>\n",
       "      <td>0</td>\n",
       "      <td>2.0</td>\n",
       "      <td>0</td>\n",
       "      <td>...</td>\n",
       "      <td>0</td>\n",
       "      <td>0</td>\n",
       "      <td>0</td>\n",
       "      <td>1</td>\n",
       "      <td>0</td>\n",
       "      <td>0</td>\n",
       "      <td>0</td>\n",
       "      <td>0</td>\n",
       "      <td>0</td>\n",
       "      <td>0</td>\n",
       "    </tr>\n",
       "    <tr>\n",
       "      <th>1</th>\n",
       "      <td>5008804</td>\n",
       "      <td>0</td>\n",
       "      <td>427500.0</td>\n",
       "      <td>-12005</td>\n",
       "      <td>-4542</td>\n",
       "      <td>1</td>\n",
       "      <td>0</td>\n",
       "      <td>0</td>\n",
       "      <td>2.0</td>\n",
       "      <td>-1</td>\n",
       "      <td>...</td>\n",
       "      <td>0</td>\n",
       "      <td>0</td>\n",
       "      <td>0</td>\n",
       "      <td>1</td>\n",
       "      <td>0</td>\n",
       "      <td>0</td>\n",
       "      <td>0</td>\n",
       "      <td>0</td>\n",
       "      <td>0</td>\n",
       "      <td>0</td>\n",
       "    </tr>\n",
       "    <tr>\n",
       "      <th>2</th>\n",
       "      <td>5008804</td>\n",
       "      <td>0</td>\n",
       "      <td>427500.0</td>\n",
       "      <td>-12005</td>\n",
       "      <td>-4542</td>\n",
       "      <td>1</td>\n",
       "      <td>0</td>\n",
       "      <td>0</td>\n",
       "      <td>2.0</td>\n",
       "      <td>-2</td>\n",
       "      <td>...</td>\n",
       "      <td>0</td>\n",
       "      <td>0</td>\n",
       "      <td>0</td>\n",
       "      <td>1</td>\n",
       "      <td>0</td>\n",
       "      <td>0</td>\n",
       "      <td>0</td>\n",
       "      <td>0</td>\n",
       "      <td>0</td>\n",
       "      <td>0</td>\n",
       "    </tr>\n",
       "    <tr>\n",
       "      <th>3</th>\n",
       "      <td>5008804</td>\n",
       "      <td>0</td>\n",
       "      <td>427500.0</td>\n",
       "      <td>-12005</td>\n",
       "      <td>-4542</td>\n",
       "      <td>1</td>\n",
       "      <td>0</td>\n",
       "      <td>0</td>\n",
       "      <td>2.0</td>\n",
       "      <td>-3</td>\n",
       "      <td>...</td>\n",
       "      <td>0</td>\n",
       "      <td>0</td>\n",
       "      <td>0</td>\n",
       "      <td>1</td>\n",
       "      <td>0</td>\n",
       "      <td>0</td>\n",
       "      <td>0</td>\n",
       "      <td>0</td>\n",
       "      <td>0</td>\n",
       "      <td>0</td>\n",
       "    </tr>\n",
       "    <tr>\n",
       "      <th>4</th>\n",
       "      <td>5008804</td>\n",
       "      <td>0</td>\n",
       "      <td>427500.0</td>\n",
       "      <td>-12005</td>\n",
       "      <td>-4542</td>\n",
       "      <td>1</td>\n",
       "      <td>0</td>\n",
       "      <td>0</td>\n",
       "      <td>2.0</td>\n",
       "      <td>-4</td>\n",
       "      <td>...</td>\n",
       "      <td>0</td>\n",
       "      <td>0</td>\n",
       "      <td>0</td>\n",
       "      <td>1</td>\n",
       "      <td>0</td>\n",
       "      <td>0</td>\n",
       "      <td>0</td>\n",
       "      <td>0</td>\n",
       "      <td>0</td>\n",
       "      <td>0</td>\n",
       "    </tr>\n",
       "    <tr>\n",
       "      <th>...</th>\n",
       "      <td>...</td>\n",
       "      <td>...</td>\n",
       "      <td>...</td>\n",
       "      <td>...</td>\n",
       "      <td>...</td>\n",
       "      <td>...</td>\n",
       "      <td>...</td>\n",
       "      <td>...</td>\n",
       "      <td>...</td>\n",
       "      <td>...</td>\n",
       "      <td>...</td>\n",
       "      <td>...</td>\n",
       "      <td>...</td>\n",
       "      <td>...</td>\n",
       "      <td>...</td>\n",
       "      <td>...</td>\n",
       "      <td>...</td>\n",
       "      <td>...</td>\n",
       "      <td>...</td>\n",
       "      <td>...</td>\n",
       "      <td>...</td>\n",
       "    </tr>\n",
       "    <tr>\n",
       "      <th>777710</th>\n",
       "      <td>5150337</td>\n",
       "      <td>0</td>\n",
       "      <td>112500.0</td>\n",
       "      <td>-9188</td>\n",
       "      <td>-1193</td>\n",
       "      <td>0</td>\n",
       "      <td>0</td>\n",
       "      <td>0</td>\n",
       "      <td>1.0</td>\n",
       "      <td>-9</td>\n",
       "      <td>...</td>\n",
       "      <td>0</td>\n",
       "      <td>0</td>\n",
       "      <td>0</td>\n",
       "      <td>0</td>\n",
       "      <td>0</td>\n",
       "      <td>0</td>\n",
       "      <td>0</td>\n",
       "      <td>0</td>\n",
       "      <td>0</td>\n",
       "      <td>0</td>\n",
       "    </tr>\n",
       "    <tr>\n",
       "      <th>777711</th>\n",
       "      <td>5150337</td>\n",
       "      <td>0</td>\n",
       "      <td>112500.0</td>\n",
       "      <td>-9188</td>\n",
       "      <td>-1193</td>\n",
       "      <td>0</td>\n",
       "      <td>0</td>\n",
       "      <td>0</td>\n",
       "      <td>1.0</td>\n",
       "      <td>-10</td>\n",
       "      <td>...</td>\n",
       "      <td>0</td>\n",
       "      <td>0</td>\n",
       "      <td>0</td>\n",
       "      <td>0</td>\n",
       "      <td>0</td>\n",
       "      <td>0</td>\n",
       "      <td>0</td>\n",
       "      <td>0</td>\n",
       "      <td>0</td>\n",
       "      <td>0</td>\n",
       "    </tr>\n",
       "    <tr>\n",
       "      <th>777712</th>\n",
       "      <td>5150337</td>\n",
       "      <td>0</td>\n",
       "      <td>112500.0</td>\n",
       "      <td>-9188</td>\n",
       "      <td>-1193</td>\n",
       "      <td>0</td>\n",
       "      <td>0</td>\n",
       "      <td>0</td>\n",
       "      <td>1.0</td>\n",
       "      <td>-11</td>\n",
       "      <td>...</td>\n",
       "      <td>0</td>\n",
       "      <td>0</td>\n",
       "      <td>0</td>\n",
       "      <td>0</td>\n",
       "      <td>0</td>\n",
       "      <td>0</td>\n",
       "      <td>0</td>\n",
       "      <td>0</td>\n",
       "      <td>0</td>\n",
       "      <td>0</td>\n",
       "    </tr>\n",
       "    <tr>\n",
       "      <th>777713</th>\n",
       "      <td>5150337</td>\n",
       "      <td>0</td>\n",
       "      <td>112500.0</td>\n",
       "      <td>-9188</td>\n",
       "      <td>-1193</td>\n",
       "      <td>0</td>\n",
       "      <td>0</td>\n",
       "      <td>0</td>\n",
       "      <td>1.0</td>\n",
       "      <td>-12</td>\n",
       "      <td>...</td>\n",
       "      <td>0</td>\n",
       "      <td>0</td>\n",
       "      <td>0</td>\n",
       "      <td>0</td>\n",
       "      <td>0</td>\n",
       "      <td>0</td>\n",
       "      <td>0</td>\n",
       "      <td>0</td>\n",
       "      <td>0</td>\n",
       "      <td>0</td>\n",
       "    </tr>\n",
       "    <tr>\n",
       "      <th>777714</th>\n",
       "      <td>5150337</td>\n",
       "      <td>0</td>\n",
       "      <td>112500.0</td>\n",
       "      <td>-9188</td>\n",
       "      <td>-1193</td>\n",
       "      <td>0</td>\n",
       "      <td>0</td>\n",
       "      <td>0</td>\n",
       "      <td>1.0</td>\n",
       "      <td>-13</td>\n",
       "      <td>...</td>\n",
       "      <td>0</td>\n",
       "      <td>0</td>\n",
       "      <td>0</td>\n",
       "      <td>0</td>\n",
       "      <td>0</td>\n",
       "      <td>0</td>\n",
       "      <td>0</td>\n",
       "      <td>0</td>\n",
       "      <td>0</td>\n",
       "      <td>0</td>\n",
       "    </tr>\n",
       "  </tbody>\n",
       "</table>\n",
       "<p>777715 rows × 57 columns</p>\n",
       "</div>"
      ],
      "text/plain": [
       "             ID  CNT_CHILDREN  AMT_INCOME_TOTAL  DAYS_BIRTH  DAYS_EMPLOYED  \\\n",
       "0       5008804             0          427500.0      -12005          -4542   \n",
       "1       5008804             0          427500.0      -12005          -4542   \n",
       "2       5008804             0          427500.0      -12005          -4542   \n",
       "3       5008804             0          427500.0      -12005          -4542   \n",
       "4       5008804             0          427500.0      -12005          -4542   \n",
       "...         ...           ...               ...         ...            ...   \n",
       "777710  5150337             0          112500.0       -9188          -1193   \n",
       "777711  5150337             0          112500.0       -9188          -1193   \n",
       "777712  5150337             0          112500.0       -9188          -1193   \n",
       "777713  5150337             0          112500.0       -9188          -1193   \n",
       "777714  5150337             0          112500.0       -9188          -1193   \n",
       "\n",
       "        FLAG_WORK_PHONE  FLAG_PHONE  FLAG_EMAIL  CNT_FAM_MEMBERS  \\\n",
       "0                     1           0           0              2.0   \n",
       "1                     1           0           0              2.0   \n",
       "2                     1           0           0              2.0   \n",
       "3                     1           0           0              2.0   \n",
       "4                     1           0           0              2.0   \n",
       "...                 ...         ...         ...              ...   \n",
       "777710                0           0           0              1.0   \n",
       "777711                0           0           0              1.0   \n",
       "777712                0           0           0              1.0   \n",
       "777713                0           0           0              1.0   \n",
       "777714                0           0           0              1.0   \n",
       "\n",
       "        MONTHS_BALANCE  ...  OCCUPATION_TYPE_Low-skill Laborers  \\\n",
       "0                    0  ...                                   0   \n",
       "1                   -1  ...                                   0   \n",
       "2                   -2  ...                                   0   \n",
       "3                   -3  ...                                   0   \n",
       "4                   -4  ...                                   0   \n",
       "...                ...  ...                                 ...   \n",
       "777710              -9  ...                                   0   \n",
       "777711             -10  ...                                   0   \n",
       "777712             -11  ...                                   0   \n",
       "777713             -12  ...                                   0   \n",
       "777714             -13  ...                                   0   \n",
       "\n",
       "        OCCUPATION_TYPE_Managers  OCCUPATION_TYPE_Medicine staff  \\\n",
       "0                              0                               0   \n",
       "1                              0                               0   \n",
       "2                              0                               0   \n",
       "3                              0                               0   \n",
       "4                              0                               0   \n",
       "...                          ...                             ...   \n",
       "777710                         0                               0   \n",
       "777711                         0                               0   \n",
       "777712                         0                               0   \n",
       "777713                         0                               0   \n",
       "777714                         0                               0   \n",
       "\n",
       "        OCCUPATION_TYPE_Other  OCCUPATION_TYPE_Private service staff  \\\n",
       "0                           1                                      0   \n",
       "1                           1                                      0   \n",
       "2                           1                                      0   \n",
       "3                           1                                      0   \n",
       "4                           1                                      0   \n",
       "...                       ...                                    ...   \n",
       "777710                      0                                      0   \n",
       "777711                      0                                      0   \n",
       "777712                      0                                      0   \n",
       "777713                      0                                      0   \n",
       "777714                      0                                      0   \n",
       "\n",
       "        OCCUPATION_TYPE_Realty agents  OCCUPATION_TYPE_Sales staff  \\\n",
       "0                                   0                            0   \n",
       "1                                   0                            0   \n",
       "2                                   0                            0   \n",
       "3                                   0                            0   \n",
       "4                                   0                            0   \n",
       "...                               ...                          ...   \n",
       "777710                              0                            0   \n",
       "777711                              0                            0   \n",
       "777712                              0                            0   \n",
       "777713                              0                            0   \n",
       "777714                              0                            0   \n",
       "\n",
       "        OCCUPATION_TYPE_Secretaries  OCCUPATION_TYPE_Security staff  \\\n",
       "0                                 0                               0   \n",
       "1                                 0                               0   \n",
       "2                                 0                               0   \n",
       "3                                 0                               0   \n",
       "4                                 0                               0   \n",
       "...                             ...                             ...   \n",
       "777710                            0                               0   \n",
       "777711                            0                               0   \n",
       "777712                            0                               0   \n",
       "777713                            0                               0   \n",
       "777714                            0                               0   \n",
       "\n",
       "        OCCUPATION_TYPE_Waiters/barmen staff  \n",
       "0                                          0  \n",
       "1                                          0  \n",
       "2                                          0  \n",
       "3                                          0  \n",
       "4                                          0  \n",
       "...                                      ...  \n",
       "777710                                     0  \n",
       "777711                                     0  \n",
       "777712                                     0  \n",
       "777713                                     0  \n",
       "777714                                     0  \n",
       "\n",
       "[777715 rows x 57 columns]"
      ]
     },
     "execution_count": 23,
     "metadata": {},
     "output_type": "execute_result"
    }
   ],
   "source": [
    "# One-hot encoding the entire dataframe\n",
    "X_dummies = pd.get_dummies(df2)\n",
    "print(X_dummies.columns)\n",
    "X_dummies"
   ]
  },
  {
   "cell_type": "code",
   "execution_count": 24,
   "id": "493b81dc",
   "metadata": {},
   "outputs": [
    {
     "data": {
      "text/plain": [
       "1    475486\n",
       "0    302229\n",
       "Name: STATUS, dtype: int64"
      ]
     },
     "execution_count": 24,
     "metadata": {},
     "output_type": "execute_result"
    }
   ],
   "source": [
    "X_dummies['STATUS'].value_counts()"
   ]
  },
  {
   "cell_type": "code",
   "execution_count": 25,
   "id": "231c2637",
   "metadata": {},
   "outputs": [],
   "source": [
    "X = X_dummies.drop('STATUS', axis=1)\n",
    "y = X_dummies['STATUS']\n",
    "X_train, X_test, y_train, y_test = train_test_split(X, y, random_state=1)\n",
    "\n"
   ]
  },
  {
   "cell_type": "markdown",
   "id": "4dc98950",
   "metadata": {},
   "source": [
    "## LogisticRegression"
   ]
  },
  {
   "cell_type": "code",
   "execution_count": 26,
   "id": "83bc2fe5",
   "metadata": {},
   "outputs": [
    {
     "data": {
      "text/plain": [
       "LogisticRegression()"
      ]
     },
     "execution_count": 26,
     "metadata": {},
     "output_type": "execute_result"
    }
   ],
   "source": [
    "from sklearn.linear_model import LogisticRegression\n",
    "model = LogisticRegression()\n",
    "model"
   ]
  },
  {
   "cell_type": "code",
   "execution_count": 27,
   "id": "4fa872dd",
   "metadata": {},
   "outputs": [
    {
     "data": {
      "text/plain": [
       "LogisticRegression()"
      ]
     },
     "execution_count": 27,
     "metadata": {},
     "output_type": "execute_result"
    }
   ],
   "source": [
    "model.fit(X_train, y_train)"
   ]
  },
  {
   "cell_type": "code",
   "execution_count": 28,
   "id": "3d579452",
   "metadata": {},
   "outputs": [
    {
     "name": "stdout",
     "output_type": "stream",
     "text": [
      "Training Data Score: 0.6119948018639226\n",
      "Testing Data Score: 0.609435835189195\n"
     ]
    }
   ],
   "source": [
    "print(f\"Training Data Score: {model.score(X_train, y_train)}\")\n",
    "print(f\"Testing Data Score: {model.score(X_test, y_test)}\")"
   ]
  },
  {
   "cell_type": "code",
   "execution_count": 29,
   "id": "92bad8b7",
   "metadata": {},
   "outputs": [
    {
     "name": "stdout",
     "output_type": "stream",
     "text": [
      "First 10 predictions:   [1 1 1 1 1 1 1 1 1 1]\n",
      "First 10 actual labels: [1, 1, 1, 1, 1, 1, 1, 1, 1, 0]\n"
     ]
    }
   ],
   "source": [
    "predictions = model.predict(X_test)\n",
    "print(f\"First 10 predictions:   {predictions[:10]}\")\n",
    "print(f\"First 10 actual labels: {y_test[:10].tolist()}\")"
   ]
  },
  {
   "cell_type": "markdown",
   "id": "8ed8930d",
   "metadata": {},
   "source": [
    "## Confusion Matrix"
   ]
  },
  {
   "cell_type": "code",
   "execution_count": 30,
   "id": "e54e3a3f",
   "metadata": {},
   "outputs": [
    {
     "data": {
      "text/plain": [
       "array([[    15,  75914],\n",
       "       [    23, 118477]])"
      ]
     },
     "execution_count": 30,
     "metadata": {},
     "output_type": "execute_result"
    }
   ],
   "source": [
    "from sklearn.metrics import confusion_matrix\n",
    "from sklearn.metrics import plot_confusion_matrix\n",
    "\n",
    "y_true = y_test\n",
    "y_pred = model.predict(X_test)\n",
    "confusion_matrix(y_true, y_pred)\n"
   ]
  },
  {
   "cell_type": "code",
   "execution_count": 31,
   "id": "72c7b821",
   "metadata": {},
   "outputs": [],
   "source": [
    "from sklearn.metrics import ConfusionMatrixDisplay,accuracy_score"
   ]
  },
  {
   "cell_type": "code",
   "execution_count": 32,
   "id": "6252e6c5",
   "metadata": {},
   "outputs": [
    {
     "data": {
      "text/plain": [
       "0.609435835189195"
      ]
     },
     "execution_count": 32,
     "metadata": {},
     "output_type": "execute_result"
    },
    {
     "data": {
      "image/png": "[encoded data removed]",
      "text/plain": [
       "<Figure size 432x288 with 2 Axes>"
      ]
     },
     "metadata": {
      "needs_background": "light"
     },
     "output_type": "display_data"
    }
   ],
   "source": [
    "ConfusionMatrixDisplay.from_predictions(y_test,y_pred)\n",
    "accuracy_score(y_test,y_pred)"
   ]
  },
  {
   "cell_type": "code",
   "execution_count": 33,
   "id": "2b1ec271",
   "metadata": {},
   "outputs": [
    {
     "name": "stdout",
     "output_type": "stream",
     "text": [
      "0.609435835189195\n"
     ]
    }
   ],
   "source": [
    "TP = 118477\n",
    "FP = 75914\n",
    "TN = 15\n",
    "FN = 23 \n",
    "accuracy = (TP + TN) / (TP + FP + TN + FN)\n",
    "print(accuracy)"
   ]
  },
  {
   "cell_type": "markdown",
   "id": "3a348f11",
   "metadata": {},
   "source": [
    "## ROC curve"
   ]
  },
  {
   "cell_type": "code",
   "execution_count": 34,
   "id": "2e41cfdc",
   "metadata": {},
   "outputs": [],
   "source": [
    "# Get the probability for each class in the model\n",
    "y_pred_proba = model.predict_proba(X_test)[:,1]"
   ]
  },
  {
   "cell_type": "code",
   "execution_count": 35,
   "id": "e7df2b68",
   "metadata": {},
   "outputs": [],
   "source": [
    "# Get the ROC curve data for the logistic regression model\n",
    "# fpr increasing false positive rates\n",
    "# tpr increasing true positive rates\n",
    "fpr, tpr, thresholds = roc_curve(y_test, y_pred_proba)"
   ]
  },
  {
   "cell_type": "code",
   "execution_count": 36,
   "id": "5be3fc31",
   "metadata": {},
   "outputs": [
    {
     "data": {
      "image/png": "[encoded data removed]",
      "text/plain": [
       "<Figure size 432x288 with 1 Axes>"
      ]
     },
     "metadata": {
      "needs_background": "light"
     },
     "output_type": "display_data"
    }
   ],
   "source": [
    "plt.figure()\n",
    "plt.plot(fpr, tpr, color=\"darkorange\")\n",
    "plt.plot([0, 1], [0, 1], color=\"navy\", linestyle=\"--\")\n",
    "plt.xlim([0.0, 1])\n",
    "plt.ylim([0.0, 1.05])\n",
    "plt.xlabel(\"False Positive Rate\")\n",
    "plt.ylabel(\"True Positive Rate\")\n",
    "plt.title(\"ROC Curve - Logistic Regression\")\n",
    "plt.show()"
   ]
  },
  {
   "cell_type": "code",
   "execution_count": 37,
   "id": "8a231509",
   "metadata": {},
   "outputs": [],
   "source": [
    "# since we didn't get very close score we decided to group the status column in different way\n",
    "# 0: 1-29 days past due so we'll group C, X, and 0 together in order to get more accurate results"
   ]
  },
  {
   "cell_type": "markdown",
   "id": "4d3434cc",
   "metadata": {},
   "source": [
    "## Trial2"
   ]
  },
  {
   "cell_type": "code",
   "execution_count": 38,
   "id": "d04ac06e",
   "metadata": {},
   "outputs": [],
   "source": [
    "df3 = df.copy()"
   ]
  },
  {
   "cell_type": "code",
   "execution_count": 39,
   "id": "8db36daf",
   "metadata": {},
   "outputs": [],
   "source": [
    "def new_status_trial2(sampleTrial2):\n",
    "    if sampleTrial2=='C' or sampleTrial2=='X' or sampleTrial2=='0':\n",
    "        return 1\n",
    "    else:\n",
    "        return 0\n",
    "    "
   ]
  },
  {
   "cell_type": "code",
   "execution_count": 40,
   "id": "a27df2cb",
   "metadata": {},
   "outputs": [],
   "source": [
    "df3['STATUS'] = df3['STATUS'].apply(new_status_trial2)"
   ]
  },
  {
   "cell_type": "code",
   "execution_count": 41,
   "id": "5c04a28a",
   "metadata": {},
   "outputs": [
    {
     "data": {
      "text/plain": [
       "1    766140\n",
       "0     11575\n",
       "Name: STATUS, dtype: int64"
      ]
     },
     "execution_count": 41,
     "metadata": {},
     "output_type": "execute_result"
    }
   ],
   "source": [
    "df3['STATUS'].value_counts()"
   ]
  },
  {
   "cell_type": "code",
   "execution_count": 42,
   "id": "78e05fa9",
   "metadata": {},
   "outputs": [
    {
     "data": {
      "text/plain": [
       "C    329536\n",
       "0    290654\n",
       "X    145950\n",
       "1      8747\n",
       "5      1527\n",
       "2       801\n",
       "3       286\n",
       "4       214\n",
       "Name: STATUS, dtype: int64"
      ]
     },
     "execution_count": 42,
     "metadata": {},
     "output_type": "execute_result"
    }
   ],
   "source": [
    "df['STATUS'].value_counts()"
   ]
  },
  {
   "cell_type": "code",
   "execution_count": 43,
   "id": "d8f40b0f",
   "metadata": {},
   "outputs": [
    {
     "data": {
      "image/png": "[encoded data removed]",
      "text/plain": [
       "<Figure size 432x288 with 1 Axes>"
      ]
     },
     "metadata": {
      "needs_background": "light"
     },
     "output_type": "display_data"
    },
    {
     "data": {
      "image/png": "[encoded data removed]",
      "text/plain": [
       "<Figure size 432x288 with 1 Axes>"
      ]
     },
     "metadata": {
      "needs_background": "light"
     },
     "output_type": "display_data"
    },
    {
     "data": {
      "image/png": "[encoded data removed]",
      "text/plain": [
       "<Figure size 432x288 with 1 Axes>"
      ]
     },
     "metadata": {
      "needs_background": "light"
     },
     "output_type": "display_data"
    },
    {
     "data": {
      "image/png": "[encoded data removed]",
      "text/plain": [
       "<Figure size 432x288 with 1 Axes>"
      ]
     },
     "metadata": {
      "needs_background": "light"
     },
     "output_type": "display_data"
    },
    {
     "data": {
      "image/png": "[encoded data removed]",
      "text/plain": [
       "<Figure size 432x288 with 1 Axes>"
      ]
     },
     "metadata": {
      "needs_background": "light"
     },
     "output_type": "display_data"
    },
    {
     "data": {
      "image/png": "[encoded data removed]",
      "text/plain": [
       "<Figure size 432x288 with 1 Axes>"
      ]
     },
     "metadata": {
      "needs_background": "light"
     },
     "output_type": "display_data"
    },
    {
     "data": {
      "image/png": "[encoded data removed]",
      "text/plain": [
       "<Figure size 432x288 with 1 Axes>"
      ]
     },
     "metadata": {
      "needs_background": "light"
     },
     "output_type": "display_data"
    },
    {
     "data": {
      "image/png": "[encoded data removed]",
      "text/plain": [
       "<Figure size 432x288 with 1 Axes>"
      ]
     },
     "metadata": {
      "needs_background": "light"
     },
     "output_type": "display_data"
    },
    {
     "data": {
      "image/png": "[encoded data removed]",
      "text/plain": [
       "<Figure size 432x288 with 1 Axes>"
      ]
     },
     "metadata": {
      "needs_background": "light"
     },
     "output_type": "display_data"
    },
    {
     "data": {
      "image/png": "[encoded data removed]",
      "text/plain": [
       "<Figure size 432x288 with 1 Axes>"
      ]
     },
     "metadata": {
      "needs_background": "light"
     },
     "output_type": "display_data"
    },
    {
     "data": {
      "image/png": "[encoded data removed]",
      "text/plain": [
       "<Figure size 432x288 with 1 Axes>"
      ]
     },
     "metadata": {
      "needs_background": "light"
     },
     "output_type": "display_data"
    },
    {
     "data": {
      "image/png": "[encoded data removed]",
      "text/plain": [
       "<Figure size 432x288 with 1 Axes>"
      ]
     },
     "metadata": {
      "needs_background": "light"
     },
     "output_type": "display_data"
    },
    {
     "data": {
      "image/png": "[encoded data removed]",
      "text/plain": [
       "<Figure size 432x288 with 1 Axes>"
      ]
     },
     "metadata": {
      "needs_background": "light"
     },
     "output_type": "display_data"
    },
    {
     "data": {
      "image/png": "[encoded data removed]",
      "text/plain": [
       "<Figure size 432x288 with 1 Axes>"
      ]
     },
     "metadata": {
      "needs_background": "light"
     },
     "output_type": "display_data"
    },
    {
     "data": {
      "image/png": "[encoded data removed]",
      "text/plain": [
       "<Figure size 432x288 with 1 Axes>"
      ]
     },
     "metadata": {
      "needs_background": "light"
     },
     "output_type": "display_data"
    },
    {
     "data": {
      "image/png": "[encoded data removed]",
      "text/plain": [
       "<Figure size 432x288 with 1 Axes>"
      ]
     },
     "metadata": {
      "needs_background": "light"
     },
     "output_type": "display_data"
    },
    {
     "data": {
      "image/png": "[encoded data removed]",
      "text/plain": [
       "<Figure size 432x288 with 1 Axes>"
      ]
     },
     "metadata": {
      "needs_background": "light"
     },
     "output_type": "display_data"
    },
    {
     "data": {
      "image/png": "[encoded data removed]",
      "text/plain": [
       "<Figure size 432x288 with 1 Axes>"
      ]
     },
     "metadata": {
      "needs_background": "light"
     },
     "output_type": "display_data"
    }
   ],
   "source": [
    "# create a scatter plot for column status with other columns\n",
    "for i in df3.columns:\n",
    "    if i != 'STATUS':\n",
    "        plt.scatter(df3[i], df3['STATUS'])\n",
    "        plt.xlabel(i)\n",
    "        plt.ylabel(\"STATUS\")\n",
    "        plt.show()"
   ]
  },
  {
   "cell_type": "code",
   "execution_count": 44,
   "id": "b9d4b3a1",
   "metadata": {},
   "outputs": [
    {
     "name": "stdout",
     "output_type": "stream",
     "text": [
      "Index(['ID', 'CNT_CHILDREN', 'AMT_INCOME_TOTAL', 'DAYS_BIRTH', 'DAYS_EMPLOYED',\n",
      "       'FLAG_WORK_PHONE', 'FLAG_PHONE', 'FLAG_EMAIL', 'CNT_FAM_MEMBERS',\n",
      "       'MONTHS_BALANCE', 'STATUS', 'CODE_GENDER_F', 'CODE_GENDER_M',\n",
      "       'FLAG_OWN_CAR_N', 'FLAG_OWN_CAR_Y', 'FLAG_OWN_REALTY_N',\n",
      "       'FLAG_OWN_REALTY_Y', 'NAME_INCOME_TYPE_Commercial associate',\n",
      "       'NAME_INCOME_TYPE_Pensioner', 'NAME_INCOME_TYPE_State servant',\n",
      "       'NAME_INCOME_TYPE_Student', 'NAME_INCOME_TYPE_Working',\n",
      "       'NAME_EDUCATION_TYPE_Academic degree',\n",
      "       'NAME_EDUCATION_TYPE_Higher education',\n",
      "       'NAME_EDUCATION_TYPE_Incomplete higher',\n",
      "       'NAME_EDUCATION_TYPE_Lower secondary',\n",
      "       'NAME_EDUCATION_TYPE_Secondary / secondary special',\n",
      "       'NAME_FAMILY_STATUS_Civil marriage', 'NAME_FAMILY_STATUS_Married',\n",
      "       'NAME_FAMILY_STATUS_Separated',\n",
      "       'NAME_FAMILY_STATUS_Single / not married', 'NAME_FAMILY_STATUS_Widow',\n",
      "       'NAME_HOUSING_TYPE_Co-op apartment',\n",
      "       'NAME_HOUSING_TYPE_House / apartment',\n",
      "       'NAME_HOUSING_TYPE_Municipal apartment',\n",
      "       'NAME_HOUSING_TYPE_Office apartment',\n",
      "       'NAME_HOUSING_TYPE_Rented apartment', 'NAME_HOUSING_TYPE_With parents',\n",
      "       'OCCUPATION_TYPE_Accountants', 'OCCUPATION_TYPE_Cleaning staff',\n",
      "       'OCCUPATION_TYPE_Cooking staff', 'OCCUPATION_TYPE_Core staff',\n",
      "       'OCCUPATION_TYPE_Drivers', 'OCCUPATION_TYPE_HR staff',\n",
      "       'OCCUPATION_TYPE_High skill tech staff', 'OCCUPATION_TYPE_IT staff',\n",
      "       'OCCUPATION_TYPE_Laborers', 'OCCUPATION_TYPE_Low-skill Laborers',\n",
      "       'OCCUPATION_TYPE_Managers', 'OCCUPATION_TYPE_Medicine staff',\n",
      "       'OCCUPATION_TYPE_Other', 'OCCUPATION_TYPE_Private service staff',\n",
      "       'OCCUPATION_TYPE_Realty agents', 'OCCUPATION_TYPE_Sales staff',\n",
      "       'OCCUPATION_TYPE_Secretaries', 'OCCUPATION_TYPE_Security staff',\n",
      "       'OCCUPATION_TYPE_Waiters/barmen staff'],\n",
      "      dtype='object')\n"
     ]
    },
    {
     "data": {
      "text/html": [
       "<div>\n",
       "<style scoped>\n",
       "    .dataframe tbody tr th:only-of-type {\n",
       "        vertical-align: middle;\n",
       "    }\n",
       "\n",
       "    .dataframe tbody tr th {\n",
       "        vertical-align: top;\n",
       "    }\n",
       "\n",
       "    .dataframe thead th {\n",
       "        text-align: right;\n",
       "    }\n",
       "</style>\n",
       "<table border=\"1\" class=\"dataframe\">\n",
       "  <thead>\n",
       "    <tr style=\"text-align: right;\">\n",
       "      <th></th>\n",
       "      <th>ID</th>\n",
       "      <th>CNT_CHILDREN</th>\n",
       "      <th>AMT_INCOME_TOTAL</th>\n",
       "      <th>DAYS_BIRTH</th>\n",
       "      <th>DAYS_EMPLOYED</th>\n",
       "      <th>FLAG_WORK_PHONE</th>\n",
       "      <th>FLAG_PHONE</th>\n",
       "      <th>FLAG_EMAIL</th>\n",
       "      <th>CNT_FAM_MEMBERS</th>\n",
       "      <th>MONTHS_BALANCE</th>\n",
       "      <th>...</th>\n",
       "      <th>OCCUPATION_TYPE_Low-skill Laborers</th>\n",
       "      <th>OCCUPATION_TYPE_Managers</th>\n",
       "      <th>OCCUPATION_TYPE_Medicine staff</th>\n",
       "      <th>OCCUPATION_TYPE_Other</th>\n",
       "      <th>OCCUPATION_TYPE_Private service staff</th>\n",
       "      <th>OCCUPATION_TYPE_Realty agents</th>\n",
       "      <th>OCCUPATION_TYPE_Sales staff</th>\n",
       "      <th>OCCUPATION_TYPE_Secretaries</th>\n",
       "      <th>OCCUPATION_TYPE_Security staff</th>\n",
       "      <th>OCCUPATION_TYPE_Waiters/barmen staff</th>\n",
       "    </tr>\n",
       "  </thead>\n",
       "  <tbody>\n",
       "    <tr>\n",
       "      <th>0</th>\n",
       "      <td>5008804</td>\n",
       "      <td>0</td>\n",
       "      <td>427500.0</td>\n",
       "      <td>-12005</td>\n",
       "      <td>-4542</td>\n",
       "      <td>1</td>\n",
       "      <td>0</td>\n",
       "      <td>0</td>\n",
       "      <td>2.0</td>\n",
       "      <td>0</td>\n",
       "      <td>...</td>\n",
       "      <td>0</td>\n",
       "      <td>0</td>\n",
       "      <td>0</td>\n",
       "      <td>1</td>\n",
       "      <td>0</td>\n",
       "      <td>0</td>\n",
       "      <td>0</td>\n",
       "      <td>0</td>\n",
       "      <td>0</td>\n",
       "      <td>0</td>\n",
       "    </tr>\n",
       "    <tr>\n",
       "      <th>1</th>\n",
       "      <td>5008804</td>\n",
       "      <td>0</td>\n",
       "      <td>427500.0</td>\n",
       "      <td>-12005</td>\n",
       "      <td>-4542</td>\n",
       "      <td>1</td>\n",
       "      <td>0</td>\n",
       "      <td>0</td>\n",
       "      <td>2.0</td>\n",
       "      <td>-1</td>\n",
       "      <td>...</td>\n",
       "      <td>0</td>\n",
       "      <td>0</td>\n",
       "      <td>0</td>\n",
       "      <td>1</td>\n",
       "      <td>0</td>\n",
       "      <td>0</td>\n",
       "      <td>0</td>\n",
       "      <td>0</td>\n",
       "      <td>0</td>\n",
       "      <td>0</td>\n",
       "    </tr>\n",
       "    <tr>\n",
       "      <th>2</th>\n",
       "      <td>5008804</td>\n",
       "      <td>0</td>\n",
       "      <td>427500.0</td>\n",
       "      <td>-12005</td>\n",
       "      <td>-4542</td>\n",
       "      <td>1</td>\n",
       "      <td>0</td>\n",
       "      <td>0</td>\n",
       "      <td>2.0</td>\n",
       "      <td>-2</td>\n",
       "      <td>...</td>\n",
       "      <td>0</td>\n",
       "      <td>0</td>\n",
       "      <td>0</td>\n",
       "      <td>1</td>\n",
       "      <td>0</td>\n",
       "      <td>0</td>\n",
       "      <td>0</td>\n",
       "      <td>0</td>\n",
       "      <td>0</td>\n",
       "      <td>0</td>\n",
       "    </tr>\n",
       "    <tr>\n",
       "      <th>3</th>\n",
       "      <td>5008804</td>\n",
       "      <td>0</td>\n",
       "      <td>427500.0</td>\n",
       "      <td>-12005</td>\n",
       "      <td>-4542</td>\n",
       "      <td>1</td>\n",
       "      <td>0</td>\n",
       "      <td>0</td>\n",
       "      <td>2.0</td>\n",
       "      <td>-3</td>\n",
       "      <td>...</td>\n",
       "      <td>0</td>\n",
       "      <td>0</td>\n",
       "      <td>0</td>\n",
       "      <td>1</td>\n",
       "      <td>0</td>\n",
       "      <td>0</td>\n",
       "      <td>0</td>\n",
       "      <td>0</td>\n",
       "      <td>0</td>\n",
       "      <td>0</td>\n",
       "    </tr>\n",
       "    <tr>\n",
       "      <th>4</th>\n",
       "      <td>5008804</td>\n",
       "      <td>0</td>\n",
       "      <td>427500.0</td>\n",
       "      <td>-12005</td>\n",
       "      <td>-4542</td>\n",
       "      <td>1</td>\n",
       "      <td>0</td>\n",
       "      <td>0</td>\n",
       "      <td>2.0</td>\n",
       "      <td>-4</td>\n",
       "      <td>...</td>\n",
       "      <td>0</td>\n",
       "      <td>0</td>\n",
       "      <td>0</td>\n",
       "      <td>1</td>\n",
       "      <td>0</td>\n",
       "      <td>0</td>\n",
       "      <td>0</td>\n",
       "      <td>0</td>\n",
       "      <td>0</td>\n",
       "      <td>0</td>\n",
       "    </tr>\n",
       "    <tr>\n",
       "      <th>...</th>\n",
       "      <td>...</td>\n",
       "      <td>...</td>\n",
       "      <td>...</td>\n",
       "      <td>...</td>\n",
       "      <td>...</td>\n",
       "      <td>...</td>\n",
       "      <td>...</td>\n",
       "      <td>...</td>\n",
       "      <td>...</td>\n",
       "      <td>...</td>\n",
       "      <td>...</td>\n",
       "      <td>...</td>\n",
       "      <td>...</td>\n",
       "      <td>...</td>\n",
       "      <td>...</td>\n",
       "      <td>...</td>\n",
       "      <td>...</td>\n",
       "      <td>...</td>\n",
       "      <td>...</td>\n",
       "      <td>...</td>\n",
       "      <td>...</td>\n",
       "    </tr>\n",
       "    <tr>\n",
       "      <th>777710</th>\n",
       "      <td>5150337</td>\n",
       "      <td>0</td>\n",
       "      <td>112500.0</td>\n",
       "      <td>-9188</td>\n",
       "      <td>-1193</td>\n",
       "      <td>0</td>\n",
       "      <td>0</td>\n",
       "      <td>0</td>\n",
       "      <td>1.0</td>\n",
       "      <td>-9</td>\n",
       "      <td>...</td>\n",
       "      <td>0</td>\n",
       "      <td>0</td>\n",
       "      <td>0</td>\n",
       "      <td>0</td>\n",
       "      <td>0</td>\n",
       "      <td>0</td>\n",
       "      <td>0</td>\n",
       "      <td>0</td>\n",
       "      <td>0</td>\n",
       "      <td>0</td>\n",
       "    </tr>\n",
       "    <tr>\n",
       "      <th>777711</th>\n",
       "      <td>5150337</td>\n",
       "      <td>0</td>\n",
       "      <td>112500.0</td>\n",
       "      <td>-9188</td>\n",
       "      <td>-1193</td>\n",
       "      <td>0</td>\n",
       "      <td>0</td>\n",
       "      <td>0</td>\n",
       "      <td>1.0</td>\n",
       "      <td>-10</td>\n",
       "      <td>...</td>\n",
       "      <td>0</td>\n",
       "      <td>0</td>\n",
       "      <td>0</td>\n",
       "      <td>0</td>\n",
       "      <td>0</td>\n",
       "      <td>0</td>\n",
       "      <td>0</td>\n",
       "      <td>0</td>\n",
       "      <td>0</td>\n",
       "      <td>0</td>\n",
       "    </tr>\n",
       "    <tr>\n",
       "      <th>777712</th>\n",
       "      <td>5150337</td>\n",
       "      <td>0</td>\n",
       "      <td>112500.0</td>\n",
       "      <td>-9188</td>\n",
       "      <td>-1193</td>\n",
       "      <td>0</td>\n",
       "      <td>0</td>\n",
       "      <td>0</td>\n",
       "      <td>1.0</td>\n",
       "      <td>-11</td>\n",
       "      <td>...</td>\n",
       "      <td>0</td>\n",
       "      <td>0</td>\n",
       "      <td>0</td>\n",
       "      <td>0</td>\n",
       "      <td>0</td>\n",
       "      <td>0</td>\n",
       "      <td>0</td>\n",
       "      <td>0</td>\n",
       "      <td>0</td>\n",
       "      <td>0</td>\n",
       "    </tr>\n",
       "    <tr>\n",
       "      <th>777713</th>\n",
       "      <td>5150337</td>\n",
       "      <td>0</td>\n",
       "      <td>112500.0</td>\n",
       "      <td>-9188</td>\n",
       "      <td>-1193</td>\n",
       "      <td>0</td>\n",
       "      <td>0</td>\n",
       "      <td>0</td>\n",
       "      <td>1.0</td>\n",
       "      <td>-12</td>\n",
       "      <td>...</td>\n",
       "      <td>0</td>\n",
       "      <td>0</td>\n",
       "      <td>0</td>\n",
       "      <td>0</td>\n",
       "      <td>0</td>\n",
       "      <td>0</td>\n",
       "      <td>0</td>\n",
       "      <td>0</td>\n",
       "      <td>0</td>\n",
       "      <td>0</td>\n",
       "    </tr>\n",
       "    <tr>\n",
       "      <th>777714</th>\n",
       "      <td>5150337</td>\n",
       "      <td>0</td>\n",
       "      <td>112500.0</td>\n",
       "      <td>-9188</td>\n",
       "      <td>-1193</td>\n",
       "      <td>0</td>\n",
       "      <td>0</td>\n",
       "      <td>0</td>\n",
       "      <td>1.0</td>\n",
       "      <td>-13</td>\n",
       "      <td>...</td>\n",
       "      <td>0</td>\n",
       "      <td>0</td>\n",
       "      <td>0</td>\n",
       "      <td>0</td>\n",
       "      <td>0</td>\n",
       "      <td>0</td>\n",
       "      <td>0</td>\n",
       "      <td>0</td>\n",
       "      <td>0</td>\n",
       "      <td>0</td>\n",
       "    </tr>\n",
       "  </tbody>\n",
       "</table>\n",
       "<p>777715 rows × 57 columns</p>\n",
       "</div>"
      ],
      "text/plain": [
       "             ID  CNT_CHILDREN  AMT_INCOME_TOTAL  DAYS_BIRTH  DAYS_EMPLOYED  \\\n",
       "0       5008804             0          427500.0      -12005          -4542   \n",
       "1       5008804             0          427500.0      -12005          -4542   \n",
       "2       5008804             0          427500.0      -12005          -4542   \n",
       "3       5008804             0          427500.0      -12005          -4542   \n",
       "4       5008804             0          427500.0      -12005          -4542   \n",
       "...         ...           ...               ...         ...            ...   \n",
       "777710  5150337             0          112500.0       -9188          -1193   \n",
       "777711  5150337             0          112500.0       -9188          -1193   \n",
       "777712  5150337             0          112500.0       -9188          -1193   \n",
       "777713  5150337             0          112500.0       -9188          -1193   \n",
       "777714  5150337             0          112500.0       -9188          -1193   \n",
       "\n",
       "        FLAG_WORK_PHONE  FLAG_PHONE  FLAG_EMAIL  CNT_FAM_MEMBERS  \\\n",
       "0                     1           0           0              2.0   \n",
       "1                     1           0           0              2.0   \n",
       "2                     1           0           0              2.0   \n",
       "3                     1           0           0              2.0   \n",
       "4                     1           0           0              2.0   \n",
       "...                 ...         ...         ...              ...   \n",
       "777710                0           0           0              1.0   \n",
       "777711                0           0           0              1.0   \n",
       "777712                0           0           0              1.0   \n",
       "777713                0           0           0              1.0   \n",
       "777714                0           0           0              1.0   \n",
       "\n",
       "        MONTHS_BALANCE  ...  OCCUPATION_TYPE_Low-skill Laborers  \\\n",
       "0                    0  ...                                   0   \n",
       "1                   -1  ...                                   0   \n",
       "2                   -2  ...                                   0   \n",
       "3                   -3  ...                                   0   \n",
       "4                   -4  ...                                   0   \n",
       "...                ...  ...                                 ...   \n",
       "777710              -9  ...                                   0   \n",
       "777711             -10  ...                                   0   \n",
       "777712             -11  ...                                   0   \n",
       "777713             -12  ...                                   0   \n",
       "777714             -13  ...                                   0   \n",
       "\n",
       "        OCCUPATION_TYPE_Managers  OCCUPATION_TYPE_Medicine staff  \\\n",
       "0                              0                               0   \n",
       "1                              0                               0   \n",
       "2                              0                               0   \n",
       "3                              0                               0   \n",
       "4                              0                               0   \n",
       "...                          ...                             ...   \n",
       "777710                         0                               0   \n",
       "777711                         0                               0   \n",
       "777712                         0                               0   \n",
       "777713                         0                               0   \n",
       "777714                         0                               0   \n",
       "\n",
       "        OCCUPATION_TYPE_Other  OCCUPATION_TYPE_Private service staff  \\\n",
       "0                           1                                      0   \n",
       "1                           1                                      0   \n",
       "2                           1                                      0   \n",
       "3                           1                                      0   \n",
       "4                           1                                      0   \n",
       "...                       ...                                    ...   \n",
       "777710                      0                                      0   \n",
       "777711                      0                                      0   \n",
       "777712                      0                                      0   \n",
       "777713                      0                                      0   \n",
       "777714                      0                                      0   \n",
       "\n",
       "        OCCUPATION_TYPE_Realty agents  OCCUPATION_TYPE_Sales staff  \\\n",
       "0                                   0                            0   \n",
       "1                                   0                            0   \n",
       "2                                   0                            0   \n",
       "3                                   0                            0   \n",
       "4                                   0                            0   \n",
       "...                               ...                          ...   \n",
       "777710                              0                            0   \n",
       "777711                              0                            0   \n",
       "777712                              0                            0   \n",
       "777713                              0                            0   \n",
       "777714                              0                            0   \n",
       "\n",
       "        OCCUPATION_TYPE_Secretaries  OCCUPATION_TYPE_Security staff  \\\n",
       "0                                 0                               0   \n",
       "1                                 0                               0   \n",
       "2                                 0                               0   \n",
       "3                                 0                               0   \n",
       "4                                 0                               0   \n",
       "...                             ...                             ...   \n",
       "777710                            0                               0   \n",
       "777711                            0                               0   \n",
       "777712                            0                               0   \n",
       "777713                            0                               0   \n",
       "777714                            0                               0   \n",
       "\n",
       "        OCCUPATION_TYPE_Waiters/barmen staff  \n",
       "0                                          0  \n",
       "1                                          0  \n",
       "2                                          0  \n",
       "3                                          0  \n",
       "4                                          0  \n",
       "...                                      ...  \n",
       "777710                                     0  \n",
       "777711                                     0  \n",
       "777712                                     0  \n",
       "777713                                     0  \n",
       "777714                                     0  \n",
       "\n",
       "[777715 rows x 57 columns]"
      ]
     },
     "execution_count": 44,
     "metadata": {},
     "output_type": "execute_result"
    }
   ],
   "source": [
    "# One-hot encoding the entire dataframe\n",
    "X_dummies = pd.get_dummies(df3)\n",
    "print(X_dummies.columns)\n",
    "X_dummies"
   ]
  },
  {
   "cell_type": "code",
   "execution_count": 45,
   "id": "bb7efe31",
   "metadata": {},
   "outputs": [
    {
     "data": {
      "text/plain": [
       "1    766140\n",
       "0     11575\n",
       "Name: STATUS, dtype: int64"
      ]
     },
     "execution_count": 45,
     "metadata": {},
     "output_type": "execute_result"
    }
   ],
   "source": [
    "X_dummies['STATUS'].value_counts()"
   ]
  },
  {
   "cell_type": "code",
   "execution_count": 46,
   "id": "829c953b",
   "metadata": {},
   "outputs": [],
   "source": [
    "X = X_dummies.drop('STATUS', axis=1)\n",
    "y = X_dummies['STATUS']\n",
    "X_train, X_test, y_train, y_test = train_test_split(X, y, random_state=1)"
   ]
  },
  {
   "cell_type": "markdown",
   "id": "e43e6b53",
   "metadata": {},
   "source": [
    "## LogisticRegression Trial2"
   ]
  },
  {
   "cell_type": "code",
   "execution_count": 47,
   "id": "341a0d4c",
   "metadata": {},
   "outputs": [
    {
     "data": {
      "text/plain": [
       "LogisticRegression()"
      ]
     },
     "execution_count": 47,
     "metadata": {},
     "output_type": "execute_result"
    }
   ],
   "source": [
    "from sklearn.linear_model import LogisticRegression\n",
    "model = LogisticRegression()\n",
    "model"
   ]
  },
  {
   "cell_type": "code",
   "execution_count": 48,
   "id": "dd9766f3",
   "metadata": {},
   "outputs": [
    {
     "data": {
      "text/plain": [
       "LogisticRegression()"
      ]
     },
     "execution_count": 48,
     "metadata": {},
     "output_type": "execute_result"
    }
   ],
   "source": [
    "model.fit(X_train, y_train)"
   ]
  },
  {
   "cell_type": "code",
   "execution_count": 49,
   "id": "db6d9867",
   "metadata": {},
   "outputs": [
    {
     "name": "stdout",
     "output_type": "stream",
     "text": [
      "Training Data Score: 0.9851376511694092\n",
      "Testing Data Score: 0.9850536699772153\n"
     ]
    }
   ],
   "source": [
    "print(f\"Training Data Score: {model.score(X_train, y_train)}\")\n",
    "print(f\"Testing Data Score: {model.score(X_test, y_test)}\")"
   ]
  },
  {
   "cell_type": "code",
   "execution_count": 50,
   "id": "4721994d",
   "metadata": {},
   "outputs": [
    {
     "name": "stdout",
     "output_type": "stream",
     "text": [
      "First 10 predictions:   [1 1 1 1 1 1 1 1 1 1]\n",
      "First 10 actual labels: [1, 1, 1, 1, 1, 1, 1, 1, 1, 1]\n"
     ]
    }
   ],
   "source": [
    "predictions = model.predict(X_test)\n",
    "print(f\"First 10 predictions:   {predictions[:10]}\")\n",
    "print(f\"First 10 actual labels: {y_test[:10].tolist()}\")"
   ]
  },
  {
   "cell_type": "markdown",
   "id": "ae3a9e26",
   "metadata": {},
   "source": [
    "## Confusion Matrix"
   ]
  },
  {
   "cell_type": "code",
   "execution_count": 51,
   "id": "64d2aef9",
   "metadata": {},
   "outputs": [
    {
     "data": {
      "text/plain": [
       "array([[     0,   2906],\n",
       "       [     0, 191523]])"
      ]
     },
     "execution_count": 51,
     "metadata": {},
     "output_type": "execute_result"
    }
   ],
   "source": [
    "from sklearn.metrics import confusion_matrix\n",
    "from sklearn.metrics import plot_confusion_matrix\n",
    "\n",
    "y_true = y_test\n",
    "y_pred = model.predict(X_test)\n",
    "confusion_matrix(y_true, y_pred)\n"
   ]
  },
  {
   "cell_type": "code",
   "execution_count": 52,
   "id": "de54a98c",
   "metadata": {},
   "outputs": [],
   "source": [
    "from sklearn.metrics import ConfusionMatrixDisplay,accuracy_score"
   ]
  },
  {
   "cell_type": "code",
   "execution_count": 53,
   "id": "71ef1f59",
   "metadata": {},
   "outputs": [
    {
     "data": {
      "text/plain": [
       "0.9850536699772153"
      ]
     },
     "execution_count": 53,
     "metadata": {},
     "output_type": "execute_result"
    },
    {
     "data": {
      "image/png": "[encoded data removed]",
      "text/plain": [
       "<Figure size 432x288 with 2 Axes>"
      ]
     },
     "metadata": {
      "needs_background": "light"
     },
     "output_type": "display_data"
    }
   ],
   "source": [
    "ConfusionMatrixDisplay.from_predictions(y_test,y_pred)\n",
    "accuracy_score(y_test,y_pred)"
   ]
  },
  {
   "cell_type": "code",
   "execution_count": 54,
   "id": "6c4177f7",
   "metadata": {},
   "outputs": [
    {
     "name": "stdout",
     "output_type": "stream",
     "text": [
      "0.9850536699772153\n"
     ]
    }
   ],
   "source": [
    "TP = 191523\n",
    "FP = 2906\n",
    "TN = 0\n",
    "FN = 0 \n",
    "accuracy = (TP + TN) / (TP + FP + TN + FN)\n",
    "print(accuracy)"
   ]
  },
  {
   "cell_type": "markdown",
   "id": "6b7d7908",
   "metadata": {},
   "source": [
    "## ROC Curve"
   ]
  },
  {
   "cell_type": "code",
   "execution_count": 55,
   "id": "7a142a0a",
   "metadata": {},
   "outputs": [],
   "source": [
    "# Get the probability for each class in the model\n",
    "y_pred_proba = model.predict_proba(X_test)[:,1]"
   ]
  },
  {
   "cell_type": "code",
   "execution_count": 56,
   "id": "37b3adf4",
   "metadata": {},
   "outputs": [],
   "source": [
    "# Get the ROC curve data for the logistic regression model\n",
    "# fpr increasing false positive rates\n",
    "# tpr increasing true positive rates\n",
    "fpr, tpr, thresholds = roc_curve(y_test, y_pred_proba)"
   ]
  },
  {
   "cell_type": "code",
   "execution_count": 57,
   "id": "0bd93dee",
   "metadata": {},
   "outputs": [
    {
     "data": {
      "image/png": "[encoded data removed]",
      "text/plain": [
       "<Figure size 432x288 with 1 Axes>"
      ]
     },
     "metadata": {
      "needs_background": "light"
     },
     "output_type": "display_data"
    }
   ],
   "source": [
    "plt.figure()\n",
    "plt.plot(fpr, tpr, color=\"darkorange\")\n",
    "plt.plot([0, 1], [0, 1], color=\"navy\", linestyle=\"--\")\n",
    "plt.xlim([0.0, 1])\n",
    "plt.ylim([0.0, 1.05])\n",
    "plt.xlabel(\"False Positive Rate\")\n",
    "plt.ylabel(\"True Positive Rate\")\n",
    "plt.title(\"ROC Curve - Logistic Regression\")\n",
    "plt.show()"
   ]
  },
  {
   "cell_type": "code",
   "execution_count": 58,
   "id": "8ec193bf",
   "metadata": {},
   "outputs": [],
   "source": [
    "# we got more accurate model but we're gonna give it one ore try \n",
    "# since 1: 30-59 days past due so it's also past due not overdue we're going to group it with C, X and 0"
   ]
  },
  {
   "cell_type": "markdown",
   "id": "2f9522cd",
   "metadata": {},
   "source": [
    "## Trial3"
   ]
  },
  {
   "cell_type": "code",
   "execution_count": 59,
   "id": "7ef349f8",
   "metadata": {},
   "outputs": [],
   "source": [
    "df4 = df.copy()"
   ]
  },
  {
   "cell_type": "code",
   "execution_count": 60,
   "id": "6e5dc74a",
   "metadata": {},
   "outputs": [],
   "source": [
    "def new_status_trial3(sampleTrial3):\n",
    "    if sampleTrial3=='C' or sampleTrial3=='X' or sampleTrial3=='0'or sampleTrial3=='1':\n",
    "        return 1\n",
    "    else:\n",
    "        return 0\n",
    "    "
   ]
  },
  {
   "cell_type": "code",
   "execution_count": 61,
   "id": "8ff5980d",
   "metadata": {},
   "outputs": [],
   "source": [
    "df4['STATUS'] = df4['STATUS'].apply(new_status_trial3)"
   ]
  },
  {
   "cell_type": "code",
   "execution_count": 62,
   "id": "42a417a2",
   "metadata": {},
   "outputs": [
    {
     "data": {
      "text/plain": [
       "1    774887\n",
       "0      2828\n",
       "Name: STATUS, dtype: int64"
      ]
     },
     "execution_count": 62,
     "metadata": {},
     "output_type": "execute_result"
    }
   ],
   "source": [
    "df4['STATUS'].value_counts()"
   ]
  },
  {
   "cell_type": "code",
   "execution_count": 63,
   "id": "4b85cda8",
   "metadata": {},
   "outputs": [
    {
     "data": {
      "text/plain": [
       "1    766140\n",
       "0     11575\n",
       "Name: STATUS, dtype: int64"
      ]
     },
     "execution_count": 63,
     "metadata": {},
     "output_type": "execute_result"
    }
   ],
   "source": [
    "df3['STATUS'].value_counts()"
   ]
  },
  {
   "cell_type": "code",
   "execution_count": 64,
   "id": "f5bb187a",
   "metadata": {},
   "outputs": [
    {
     "data": {
      "text/plain": [
       "1    475486\n",
       "0    302229\n",
       "Name: STATUS, dtype: int64"
      ]
     },
     "execution_count": 64,
     "metadata": {},
     "output_type": "execute_result"
    }
   ],
   "source": [
    "df2['STATUS'].value_counts()"
   ]
  },
  {
   "cell_type": "code",
   "execution_count": 65,
   "id": "910d1d91",
   "metadata": {},
   "outputs": [
    {
     "data": {
      "text/plain": [
       "C    329536\n",
       "0    290654\n",
       "X    145950\n",
       "1      8747\n",
       "5      1527\n",
       "2       801\n",
       "3       286\n",
       "4       214\n",
       "Name: STATUS, dtype: int64"
      ]
     },
     "execution_count": 65,
     "metadata": {},
     "output_type": "execute_result"
    }
   ],
   "source": [
    "df['STATUS'].value_counts()"
   ]
  },
  {
   "cell_type": "code",
   "execution_count": 66,
   "id": "f2fcec42",
   "metadata": {},
   "outputs": [
    {
     "data": {
      "image/png": "[encoded data removed]",
      "text/plain": [
       "<Figure size 432x288 with 1 Axes>"
      ]
     },
     "metadata": {
      "needs_background": "light"
     },
     "output_type": "display_data"
    },
    {
     "data": {
      "image/png": "[encoded data removed]",
      "text/plain": [
       "<Figure size 432x288 with 1 Axes>"
      ]
     },
     "metadata": {
      "needs_background": "light"
     },
     "output_type": "display_data"
    },
    {
     "data": {
      "image/png": "[encoded data removed]",
      "text/plain": [
       "<Figure size 432x288 with 1 Axes>"
      ]
     },
     "metadata": {
      "needs_background": "light"
     },
     "output_type": "display_data"
    },
    {
     "data": {
      "image/png": "[encoded data removed]",
      "text/plain": [
       "<Figure size 432x288 with 1 Axes>"
      ]
     },
     "metadata": {
      "needs_background": "light"
     },
     "output_type": "display_data"
    },
    {
     "data": {
      "image/png": "[encoded data removed]",
      "text/plain": [
       "<Figure size 432x288 with 1 Axes>"
      ]
     },
     "metadata": {
      "needs_background": "light"
     },
     "output_type": "display_data"
    },
    {
     "data": {
      "image/png": "[encoded data removed]",
      "text/plain": [
       "<Figure size 432x288 with 1 Axes>"
      ]
     },
     "metadata": {
      "needs_background": "light"
     },
     "output_type": "display_data"
    },
    {
     "data": {
      "image/png": "[encoded data removed]",
      "text/plain": [
       "<Figure size 432x288 with 1 Axes>"
      ]
     },
     "metadata": {
      "needs_background": "light"
     },
     "output_type": "display_data"
    },
    {
     "data": {
      "image/png": "[encoded data removed]",
      "text/plain": [
       "<Figure size 432x288 with 1 Axes>"
      ]
     },
     "metadata": {
      "needs_background": "light"
     },
     "output_type": "display_data"
    },
    {
     "data": {
      "image/png": "[encoded data removed]",
      "text/plain": [
       "<Figure size 432x288 with 1 Axes>"
      ]
     },
     "metadata": {
      "needs_background": "light"
     },
     "output_type": "display_data"
    },
    {
     "data": {
      "image/png": "[encoded data removed]",
      "text/plain": [
       "<Figure size 432x288 with 1 Axes>"
      ]
     },
     "metadata": {
      "needs_background": "light"
     },
     "output_type": "display_data"
    },
    {
     "data": {
      "image/png": "[encoded data removed]",
      "text/plain": [
       "<Figure size 432x288 with 1 Axes>"
      ]
     },
     "metadata": {
      "needs_background": "light"
     },
     "output_type": "display_data"
    },
    {
     "data": {
      "image/png": "[encoded data removed]",
      "text/plain": [
       "<Figure size 432x288 with 1 Axes>"
      ]
     },
     "metadata": {
      "needs_background": "light"
     },
     "output_type": "display_data"
    },
    {
     "data": {
      "image/png": "[encoded data removed]",
      "text/plain": [
       "<Figure size 432x288 with 1 Axes>"
      ]
     },
     "metadata": {
      "needs_background": "light"
     },
     "output_type": "display_data"
    },
    {
     "data": {
      "image/png": "[encoded data removed]",
      "text/plain": [
       "<Figure size 432x288 with 1 Axes>"
      ]
     },
     "metadata": {
      "needs_background": "light"
     },
     "output_type": "display_data"
    },
    {
     "data": {
      "image/png": "[encoded data removed]",
      "text/plain": [
       "<Figure size 432x288 with 1 Axes>"
      ]
     },
     "metadata": {
      "needs_background": "light"
     },
     "output_type": "display_data"
    },
    {
     "data": {
      "image/png": "[encoded data removed]",
      "text/plain": [
       "<Figure size 432x288 with 1 Axes>"
      ]
     },
     "metadata": {
      "needs_background": "light"
     },
     "output_type": "display_data"
    },
    {
     "data": {
      "image/png": "[encoded data removed]",
      "text/plain": [
       "<Figure size 432x288 with 1 Axes>"
      ]
     },
     "metadata": {
      "needs_background": "light"
     },
     "output_type": "display_data"
    },
    {
     "data": {
      "image/png": "[encoded data removed]",
      "text/plain": [
       "<Figure size 432x288 with 1 Axes>"
      ]
     },
     "metadata": {
      "needs_background": "light"
     },
     "output_type": "display_data"
    }
   ],
   "source": [
    "# create a scatter plot for column status with other columns\n",
    "for i in df4.columns:\n",
    "    if i != 'STATUS':\n",
    "        plt.scatter(df4[i], df4['STATUS'])\n",
    "        plt.xlabel(i)\n",
    "        plt.ylabel(\"STATUS\")\n",
    "        plt.show()"
   ]
  },
  {
   "cell_type": "code",
   "execution_count": 67,
   "id": "8e16e3a8",
   "metadata": {},
   "outputs": [
    {
     "name": "stdout",
     "output_type": "stream",
     "text": [
      "Index(['ID', 'CNT_CHILDREN', 'AMT_INCOME_TOTAL', 'DAYS_BIRTH', 'DAYS_EMPLOYED',\n",
      "       'FLAG_WORK_PHONE', 'FLAG_PHONE', 'FLAG_EMAIL', 'CNT_FAM_MEMBERS',\n",
      "       'MONTHS_BALANCE', 'STATUS', 'CODE_GENDER_F', 'CODE_GENDER_M',\n",
      "       'FLAG_OWN_CAR_N', 'FLAG_OWN_CAR_Y', 'FLAG_OWN_REALTY_N',\n",
      "       'FLAG_OWN_REALTY_Y', 'NAME_INCOME_TYPE_Commercial associate',\n",
      "       'NAME_INCOME_TYPE_Pensioner', 'NAME_INCOME_TYPE_State servant',\n",
      "       'NAME_INCOME_TYPE_Student', 'NAME_INCOME_TYPE_Working',\n",
      "       'NAME_EDUCATION_TYPE_Academic degree',\n",
      "       'NAME_EDUCATION_TYPE_Higher education',\n",
      "       'NAME_EDUCATION_TYPE_Incomplete higher',\n",
      "       'NAME_EDUCATION_TYPE_Lower secondary',\n",
      "       'NAME_EDUCATION_TYPE_Secondary / secondary special',\n",
      "       'NAME_FAMILY_STATUS_Civil marriage', 'NAME_FAMILY_STATUS_Married',\n",
      "       'NAME_FAMILY_STATUS_Separated',\n",
      "       'NAME_FAMILY_STATUS_Single / not married', 'NAME_FAMILY_STATUS_Widow',\n",
      "       'NAME_HOUSING_TYPE_Co-op apartment',\n",
      "       'NAME_HOUSING_TYPE_House / apartment',\n",
      "       'NAME_HOUSING_TYPE_Municipal apartment',\n",
      "       'NAME_HOUSING_TYPE_Office apartment',\n",
      "       'NAME_HOUSING_TYPE_Rented apartment', 'NAME_HOUSING_TYPE_With parents',\n",
      "       'OCCUPATION_TYPE_Accountants', 'OCCUPATION_TYPE_Cleaning staff',\n",
      "       'OCCUPATION_TYPE_Cooking staff', 'OCCUPATION_TYPE_Core staff',\n",
      "       'OCCUPATION_TYPE_Drivers', 'OCCUPATION_TYPE_HR staff',\n",
      "       'OCCUPATION_TYPE_High skill tech staff', 'OCCUPATION_TYPE_IT staff',\n",
      "       'OCCUPATION_TYPE_Laborers', 'OCCUPATION_TYPE_Low-skill Laborers',\n",
      "       'OCCUPATION_TYPE_Managers', 'OCCUPATION_TYPE_Medicine staff',\n",
      "       'OCCUPATION_TYPE_Other', 'OCCUPATION_TYPE_Private service staff',\n",
      "       'OCCUPATION_TYPE_Realty agents', 'OCCUPATION_TYPE_Sales staff',\n",
      "       'OCCUPATION_TYPE_Secretaries', 'OCCUPATION_TYPE_Security staff',\n",
      "       'OCCUPATION_TYPE_Waiters/barmen staff'],\n",
      "      dtype='object')\n"
     ]
    },
    {
     "data": {
      "text/html": [
       "<div>\n",
       "<style scoped>\n",
       "    .dataframe tbody tr th:only-of-type {\n",
       "        vertical-align: middle;\n",
       "    }\n",
       "\n",
       "    .dataframe tbody tr th {\n",
       "        vertical-align: top;\n",
       "    }\n",
       "\n",
       "    .dataframe thead th {\n",
       "        text-align: right;\n",
       "    }\n",
       "</style>\n",
       "<table border=\"1\" class=\"dataframe\">\n",
       "  <thead>\n",
       "    <tr style=\"text-align: right;\">\n",
       "      <th></th>\n",
       "      <th>ID</th>\n",
       "      <th>CNT_CHILDREN</th>\n",
       "      <th>AMT_INCOME_TOTAL</th>\n",
       "      <th>DAYS_BIRTH</th>\n",
       "      <th>DAYS_EMPLOYED</th>\n",
       "      <th>FLAG_WORK_PHONE</th>\n",
       "      <th>FLAG_PHONE</th>\n",
       "      <th>FLAG_EMAIL</th>\n",
       "      <th>CNT_FAM_MEMBERS</th>\n",
       "      <th>MONTHS_BALANCE</th>\n",
       "      <th>...</th>\n",
       "      <th>OCCUPATION_TYPE_Low-skill Laborers</th>\n",
       "      <th>OCCUPATION_TYPE_Managers</th>\n",
       "      <th>OCCUPATION_TYPE_Medicine staff</th>\n",
       "      <th>OCCUPATION_TYPE_Other</th>\n",
       "      <th>OCCUPATION_TYPE_Private service staff</th>\n",
       "      <th>OCCUPATION_TYPE_Realty agents</th>\n",
       "      <th>OCCUPATION_TYPE_Sales staff</th>\n",
       "      <th>OCCUPATION_TYPE_Secretaries</th>\n",
       "      <th>OCCUPATION_TYPE_Security staff</th>\n",
       "      <th>OCCUPATION_TYPE_Waiters/barmen staff</th>\n",
       "    </tr>\n",
       "  </thead>\n",
       "  <tbody>\n",
       "    <tr>\n",
       "      <th>0</th>\n",
       "      <td>5008804</td>\n",
       "      <td>0</td>\n",
       "      <td>427500.0</td>\n",
       "      <td>-12005</td>\n",
       "      <td>-4542</td>\n",
       "      <td>1</td>\n",
       "      <td>0</td>\n",
       "      <td>0</td>\n",
       "      <td>2.0</td>\n",
       "      <td>0</td>\n",
       "      <td>...</td>\n",
       "      <td>0</td>\n",
       "      <td>0</td>\n",
       "      <td>0</td>\n",
       "      <td>1</td>\n",
       "      <td>0</td>\n",
       "      <td>0</td>\n",
       "      <td>0</td>\n",
       "      <td>0</td>\n",
       "      <td>0</td>\n",
       "      <td>0</td>\n",
       "    </tr>\n",
       "    <tr>\n",
       "      <th>1</th>\n",
       "      <td>5008804</td>\n",
       "      <td>0</td>\n",
       "      <td>427500.0</td>\n",
       "      <td>-12005</td>\n",
       "      <td>-4542</td>\n",
       "      <td>1</td>\n",
       "      <td>0</td>\n",
       "      <td>0</td>\n",
       "      <td>2.0</td>\n",
       "      <td>-1</td>\n",
       "      <td>...</td>\n",
       "      <td>0</td>\n",
       "      <td>0</td>\n",
       "      <td>0</td>\n",
       "      <td>1</td>\n",
       "      <td>0</td>\n",
       "      <td>0</td>\n",
       "      <td>0</td>\n",
       "      <td>0</td>\n",
       "      <td>0</td>\n",
       "      <td>0</td>\n",
       "    </tr>\n",
       "    <tr>\n",
       "      <th>2</th>\n",
       "      <td>5008804</td>\n",
       "      <td>0</td>\n",
       "      <td>427500.0</td>\n",
       "      <td>-12005</td>\n",
       "      <td>-4542</td>\n",
       "      <td>1</td>\n",
       "      <td>0</td>\n",
       "      <td>0</td>\n",
       "      <td>2.0</td>\n",
       "      <td>-2</td>\n",
       "      <td>...</td>\n",
       "      <td>0</td>\n",
       "      <td>0</td>\n",
       "      <td>0</td>\n",
       "      <td>1</td>\n",
       "      <td>0</td>\n",
       "      <td>0</td>\n",
       "      <td>0</td>\n",
       "      <td>0</td>\n",
       "      <td>0</td>\n",
       "      <td>0</td>\n",
       "    </tr>\n",
       "    <tr>\n",
       "      <th>3</th>\n",
       "      <td>5008804</td>\n",
       "      <td>0</td>\n",
       "      <td>427500.0</td>\n",
       "      <td>-12005</td>\n",
       "      <td>-4542</td>\n",
       "      <td>1</td>\n",
       "      <td>0</td>\n",
       "      <td>0</td>\n",
       "      <td>2.0</td>\n",
       "      <td>-3</td>\n",
       "      <td>...</td>\n",
       "      <td>0</td>\n",
       "      <td>0</td>\n",
       "      <td>0</td>\n",
       "      <td>1</td>\n",
       "      <td>0</td>\n",
       "      <td>0</td>\n",
       "      <td>0</td>\n",
       "      <td>0</td>\n",
       "      <td>0</td>\n",
       "      <td>0</td>\n",
       "    </tr>\n",
       "    <tr>\n",
       "      <th>4</th>\n",
       "      <td>5008804</td>\n",
       "      <td>0</td>\n",
       "      <td>427500.0</td>\n",
       "      <td>-12005</td>\n",
       "      <td>-4542</td>\n",
       "      <td>1</td>\n",
       "      <td>0</td>\n",
       "      <td>0</td>\n",
       "      <td>2.0</td>\n",
       "      <td>-4</td>\n",
       "      <td>...</td>\n",
       "      <td>0</td>\n",
       "      <td>0</td>\n",
       "      <td>0</td>\n",
       "      <td>1</td>\n",
       "      <td>0</td>\n",
       "      <td>0</td>\n",
       "      <td>0</td>\n",
       "      <td>0</td>\n",
       "      <td>0</td>\n",
       "      <td>0</td>\n",
       "    </tr>\n",
       "    <tr>\n",
       "      <th>...</th>\n",
       "      <td>...</td>\n",
       "      <td>...</td>\n",
       "      <td>...</td>\n",
       "      <td>...</td>\n",
       "      <td>...</td>\n",
       "      <td>...</td>\n",
       "      <td>...</td>\n",
       "      <td>...</td>\n",
       "      <td>...</td>\n",
       "      <td>...</td>\n",
       "      <td>...</td>\n",
       "      <td>...</td>\n",
       "      <td>...</td>\n",
       "      <td>...</td>\n",
       "      <td>...</td>\n",
       "      <td>...</td>\n",
       "      <td>...</td>\n",
       "      <td>...</td>\n",
       "      <td>...</td>\n",
       "      <td>...</td>\n",
       "      <td>...</td>\n",
       "    </tr>\n",
       "    <tr>\n",
       "      <th>777710</th>\n",
       "      <td>5150337</td>\n",
       "      <td>0</td>\n",
       "      <td>112500.0</td>\n",
       "      <td>-9188</td>\n",
       "      <td>-1193</td>\n",
       "      <td>0</td>\n",
       "      <td>0</td>\n",
       "      <td>0</td>\n",
       "      <td>1.0</td>\n",
       "      <td>-9</td>\n",
       "      <td>...</td>\n",
       "      <td>0</td>\n",
       "      <td>0</td>\n",
       "      <td>0</td>\n",
       "      <td>0</td>\n",
       "      <td>0</td>\n",
       "      <td>0</td>\n",
       "      <td>0</td>\n",
       "      <td>0</td>\n",
       "      <td>0</td>\n",
       "      <td>0</td>\n",
       "    </tr>\n",
       "    <tr>\n",
       "      <th>777711</th>\n",
       "      <td>5150337</td>\n",
       "      <td>0</td>\n",
       "      <td>112500.0</td>\n",
       "      <td>-9188</td>\n",
       "      <td>-1193</td>\n",
       "      <td>0</td>\n",
       "      <td>0</td>\n",
       "      <td>0</td>\n",
       "      <td>1.0</td>\n",
       "      <td>-10</td>\n",
       "      <td>...</td>\n",
       "      <td>0</td>\n",
       "      <td>0</td>\n",
       "      <td>0</td>\n",
       "      <td>0</td>\n",
       "      <td>0</td>\n",
       "      <td>0</td>\n",
       "      <td>0</td>\n",
       "      <td>0</td>\n",
       "      <td>0</td>\n",
       "      <td>0</td>\n",
       "    </tr>\n",
       "    <tr>\n",
       "      <th>777712</th>\n",
       "      <td>5150337</td>\n",
       "      <td>0</td>\n",
       "      <td>112500.0</td>\n",
       "      <td>-9188</td>\n",
       "      <td>-1193</td>\n",
       "      <td>0</td>\n",
       "      <td>0</td>\n",
       "      <td>0</td>\n",
       "      <td>1.0</td>\n",
       "      <td>-11</td>\n",
       "      <td>...</td>\n",
       "      <td>0</td>\n",
       "      <td>0</td>\n",
       "      <td>0</td>\n",
       "      <td>0</td>\n",
       "      <td>0</td>\n",
       "      <td>0</td>\n",
       "      <td>0</td>\n",
       "      <td>0</td>\n",
       "      <td>0</td>\n",
       "      <td>0</td>\n",
       "    </tr>\n",
       "    <tr>\n",
       "      <th>777713</th>\n",
       "      <td>5150337</td>\n",
       "      <td>0</td>\n",
       "      <td>112500.0</td>\n",
       "      <td>-9188</td>\n",
       "      <td>-1193</td>\n",
       "      <td>0</td>\n",
       "      <td>0</td>\n",
       "      <td>0</td>\n",
       "      <td>1.0</td>\n",
       "      <td>-12</td>\n",
       "      <td>...</td>\n",
       "      <td>0</td>\n",
       "      <td>0</td>\n",
       "      <td>0</td>\n",
       "      <td>0</td>\n",
       "      <td>0</td>\n",
       "      <td>0</td>\n",
       "      <td>0</td>\n",
       "      <td>0</td>\n",
       "      <td>0</td>\n",
       "      <td>0</td>\n",
       "    </tr>\n",
       "    <tr>\n",
       "      <th>777714</th>\n",
       "      <td>5150337</td>\n",
       "      <td>0</td>\n",
       "      <td>112500.0</td>\n",
       "      <td>-9188</td>\n",
       "      <td>-1193</td>\n",
       "      <td>0</td>\n",
       "      <td>0</td>\n",
       "      <td>0</td>\n",
       "      <td>1.0</td>\n",
       "      <td>-13</td>\n",
       "      <td>...</td>\n",
       "      <td>0</td>\n",
       "      <td>0</td>\n",
       "      <td>0</td>\n",
       "      <td>0</td>\n",
       "      <td>0</td>\n",
       "      <td>0</td>\n",
       "      <td>0</td>\n",
       "      <td>0</td>\n",
       "      <td>0</td>\n",
       "      <td>0</td>\n",
       "    </tr>\n",
       "  </tbody>\n",
       "</table>\n",
       "<p>777715 rows × 57 columns</p>\n",
       "</div>"
      ],
      "text/plain": [
       "             ID  CNT_CHILDREN  AMT_INCOME_TOTAL  DAYS_BIRTH  DAYS_EMPLOYED  \\\n",
       "0       5008804             0          427500.0      -12005          -4542   \n",
       "1       5008804             0          427500.0      -12005          -4542   \n",
       "2       5008804             0          427500.0      -12005          -4542   \n",
       "3       5008804             0          427500.0      -12005          -4542   \n",
       "4       5008804             0          427500.0      -12005          -4542   \n",
       "...         ...           ...               ...         ...            ...   \n",
       "777710  5150337             0          112500.0       -9188          -1193   \n",
       "777711  5150337             0          112500.0       -9188          -1193   \n",
       "777712  5150337             0          112500.0       -9188          -1193   \n",
       "777713  5150337             0          112500.0       -9188          -1193   \n",
       "777714  5150337             0          112500.0       -9188          -1193   \n",
       "\n",
       "        FLAG_WORK_PHONE  FLAG_PHONE  FLAG_EMAIL  CNT_FAM_MEMBERS  \\\n",
       "0                     1           0           0              2.0   \n",
       "1                     1           0           0              2.0   \n",
       "2                     1           0           0              2.0   \n",
       "3                     1           0           0              2.0   \n",
       "4                     1           0           0              2.0   \n",
       "...                 ...         ...         ...              ...   \n",
       "777710                0           0           0              1.0   \n",
       "777711                0           0           0              1.0   \n",
       "777712                0           0           0              1.0   \n",
       "777713                0           0           0              1.0   \n",
       "777714                0           0           0              1.0   \n",
       "\n",
       "        MONTHS_BALANCE  ...  OCCUPATION_TYPE_Low-skill Laborers  \\\n",
       "0                    0  ...                                   0   \n",
       "1                   -1  ...                                   0   \n",
       "2                   -2  ...                                   0   \n",
       "3                   -3  ...                                   0   \n",
       "4                   -4  ...                                   0   \n",
       "...                ...  ...                                 ...   \n",
       "777710              -9  ...                                   0   \n",
       "777711             -10  ...                                   0   \n",
       "777712             -11  ...                                   0   \n",
       "777713             -12  ...                                   0   \n",
       "777714             -13  ...                                   0   \n",
       "\n",
       "        OCCUPATION_TYPE_Managers  OCCUPATION_TYPE_Medicine staff  \\\n",
       "0                              0                               0   \n",
       "1                              0                               0   \n",
       "2                              0                               0   \n",
       "3                              0                               0   \n",
       "4                              0                               0   \n",
       "...                          ...                             ...   \n",
       "777710                         0                               0   \n",
       "777711                         0                               0   \n",
       "777712                         0                               0   \n",
       "777713                         0                               0   \n",
       "777714                         0                               0   \n",
       "\n",
       "        OCCUPATION_TYPE_Other  OCCUPATION_TYPE_Private service staff  \\\n",
       "0                           1                                      0   \n",
       "1                           1                                      0   \n",
       "2                           1                                      0   \n",
       "3                           1                                      0   \n",
       "4                           1                                      0   \n",
       "...                       ...                                    ...   \n",
       "777710                      0                                      0   \n",
       "777711                      0                                      0   \n",
       "777712                      0                                      0   \n",
       "777713                      0                                      0   \n",
       "777714                      0                                      0   \n",
       "\n",
       "        OCCUPATION_TYPE_Realty agents  OCCUPATION_TYPE_Sales staff  \\\n",
       "0                                   0                            0   \n",
       "1                                   0                            0   \n",
       "2                                   0                            0   \n",
       "3                                   0                            0   \n",
       "4                                   0                            0   \n",
       "...                               ...                          ...   \n",
       "777710                              0                            0   \n",
       "777711                              0                            0   \n",
       "777712                              0                            0   \n",
       "777713                              0                            0   \n",
       "777714                              0                            0   \n",
       "\n",
       "        OCCUPATION_TYPE_Secretaries  OCCUPATION_TYPE_Security staff  \\\n",
       "0                                 0                               0   \n",
       "1                                 0                               0   \n",
       "2                                 0                               0   \n",
       "3                                 0                               0   \n",
       "4                                 0                               0   \n",
       "...                             ...                             ...   \n",
       "777710                            0                               0   \n",
       "777711                            0                               0   \n",
       "777712                            0                               0   \n",
       "777713                            0                               0   \n",
       "777714                            0                               0   \n",
       "\n",
       "        OCCUPATION_TYPE_Waiters/barmen staff  \n",
       "0                                          0  \n",
       "1                                          0  \n",
       "2                                          0  \n",
       "3                                          0  \n",
       "4                                          0  \n",
       "...                                      ...  \n",
       "777710                                     0  \n",
       "777711                                     0  \n",
       "777712                                     0  \n",
       "777713                                     0  \n",
       "777714                                     0  \n",
       "\n",
       "[777715 rows x 57 columns]"
      ]
     },
     "execution_count": 67,
     "metadata": {},
     "output_type": "execute_result"
    }
   ],
   "source": [
    "# One-hot encoding the entire dataframe\n",
    "X_dummies = pd.get_dummies(df4)\n",
    "print(X_dummies.columns)\n",
    "X_dummies"
   ]
  },
  {
   "cell_type": "code",
   "execution_count": 68,
   "id": "abeea0b5",
   "metadata": {},
   "outputs": [
    {
     "data": {
      "text/plain": [
       "1    774887\n",
       "0      2828\n",
       "Name: STATUS, dtype: int64"
      ]
     },
     "execution_count": 68,
     "metadata": {},
     "output_type": "execute_result"
    }
   ],
   "source": [
    "X_dummies['STATUS'].value_counts()"
   ]
  },
  {
   "cell_type": "code",
   "execution_count": 69,
   "id": "4812b566",
   "metadata": {},
   "outputs": [],
   "source": [
    "X = X_dummies.drop('STATUS', axis=1)\n",
    "y = X_dummies['STATUS']\n",
    "X_train, X_test, y_train, y_test = train_test_split(X, y, random_state=1)\n",
    "\n"
   ]
  },
  {
   "cell_type": "markdown",
   "id": "a39817aa",
   "metadata": {},
   "source": [
    "## LogisticRegression Trial3"
   ]
  },
  {
   "cell_type": "code",
   "execution_count": 70,
   "id": "dbd64b88",
   "metadata": {},
   "outputs": [
    {
     "data": {
      "text/plain": [
       "LogisticRegression()"
      ]
     },
     "execution_count": 70,
     "metadata": {},
     "output_type": "execute_result"
    }
   ],
   "source": [
    "from sklearn.linear_model import LogisticRegression\n",
    "model = LogisticRegression()\n",
    "model"
   ]
  },
  {
   "cell_type": "code",
   "execution_count": 71,
   "id": "26773591",
   "metadata": {},
   "outputs": [
    {
     "data": {
      "text/plain": [
       "LogisticRegression()"
      ]
     },
     "execution_count": 71,
     "metadata": {},
     "output_type": "execute_result"
    }
   ],
   "source": [
    "model.fit(X_train, y_train)"
   ]
  },
  {
   "cell_type": "code",
   "execution_count": 72,
   "id": "94eaeda2",
   "metadata": {},
   "outputs": [
    {
     "name": "stdout",
     "output_type": "stream",
     "text": [
      "Training Data Score: 0.9963619905158019\n",
      "Testing Data Score: 0.9963688544404384\n"
     ]
    }
   ],
   "source": [
    "print(f\"Training Data Score: {model.score(X_train, y_train)}\")\n",
    "print(f\"Testing Data Score: {model.score(X_test, y_test)}\")"
   ]
  },
  {
   "cell_type": "code",
   "execution_count": 73,
   "id": "afa20d27",
   "metadata": {},
   "outputs": [
    {
     "name": "stdout",
     "output_type": "stream",
     "text": [
      "First 10 predictions:   [1 1 1 1 1 1 1 1 1 1]\n",
      "First 10 actual labels: [1, 1, 1, 1, 1, 1, 1, 1, 1, 1]\n"
     ]
    }
   ],
   "source": [
    "predictions = model.predict(X_test)\n",
    "print(f\"First 10 predictions:   {predictions[:10]}\")\n",
    "print(f\"First 10 actual labels: {y_test[:10].tolist()}\")"
   ]
  },
  {
   "cell_type": "markdown",
   "id": "1954597b",
   "metadata": {},
   "source": [
    "## Confusion Matrix"
   ]
  },
  {
   "cell_type": "code",
   "execution_count": 74,
   "id": "845c3b2e",
   "metadata": {},
   "outputs": [
    {
     "data": {
      "text/plain": [
       "array([[     0,    706],\n",
       "       [     0, 193723]])"
      ]
     },
     "execution_count": 74,
     "metadata": {},
     "output_type": "execute_result"
    }
   ],
   "source": [
    "from sklearn.metrics import confusion_matrix\n",
    "from sklearn.metrics import plot_confusion_matrix\n",
    "\n",
    "y_true = y_test\n",
    "y_pred = model.predict(X_test)\n",
    "confusion_matrix(y_true, y_pred)\n"
   ]
  },
  {
   "cell_type": "code",
   "execution_count": 75,
   "id": "fb233292",
   "metadata": {},
   "outputs": [],
   "source": [
    "from sklearn.metrics import ConfusionMatrixDisplay,accuracy_score"
   ]
  },
  {
   "cell_type": "code",
   "execution_count": 76,
   "id": "e3e6cae7",
   "metadata": {},
   "outputs": [
    {
     "data": {
      "text/plain": [
       "0.9963688544404384"
      ]
     },
     "execution_count": 76,
     "metadata": {},
     "output_type": "execute_result"
    },
    {
     "data": {
      "image/png": "[encoded data removed]",
      "text/plain": [
       "<Figure size 432x288 with 2 Axes>"
      ]
     },
     "metadata": {
      "needs_background": "light"
     },
     "output_type": "display_data"
    }
   ],
   "source": [
    "ConfusionMatrixDisplay.from_predictions(y_test,y_pred)\n",
    "accuracy_score(y_test,y_pred)"
   ]
  },
  {
   "cell_type": "code",
   "execution_count": 77,
   "id": "69e66867",
   "metadata": {},
   "outputs": [
    {
     "name": "stdout",
     "output_type": "stream",
     "text": [
      "0.9963688544404384\n"
     ]
    }
   ],
   "source": [
    "TP = 193723\n",
    "FP = 706\n",
    "TN = 0\n",
    "FN = 0\n",
    "accuracy = (TP + TN) / (TP + FP + TN + FN)\n",
    "print(accuracy)"
   ]
  },
  {
   "cell_type": "markdown",
   "id": "a45f4113",
   "metadata": {},
   "source": [
    "## ROC Curve"
   ]
  },
  {
   "cell_type": "code",
   "execution_count": 80,
   "id": "86e3ff66",
   "metadata": {},
   "outputs": [],
   "source": [
    "# Get the probability for each class in the model\n",
    "y_pred_proba = model.predict_proba(X_test)[:,1]"
   ]
  },
  {
   "cell_type": "code",
   "execution_count": 81,
   "id": "78ca80ec",
   "metadata": {},
   "outputs": [],
   "source": [
    "# Get the ROC curve data for the logistic regression model\n",
    "# fpr increasing false positive rates\n",
    "# tpr increasing true positive rates\n",
    "fpr, tpr, thresholds = roc_curve(y_test, y_pred_proba)"
   ]
  },
  {
   "cell_type": "code",
   "execution_count": 82,
   "id": "6397b611",
   "metadata": {},
   "outputs": [
    {
     "data": {
      "image/png": "[encoded data removed]",
      "text/plain": [
       "<Figure size 432x288 with 1 Axes>"
      ]
     },
     "metadata": {
      "needs_background": "light"
     },
     "output_type": "display_data"
    }
   ],
   "source": [
    "plt.figure()\n",
    "plt.plot(fpr, tpr, color=\"darkorange\")\n",
    "plt.plot([0, 1], [0, 1], color=\"navy\", linestyle=\"--\")\n",
    "plt.xlim([0.0, 1])\n",
    "plt.ylim([0.0, 1.05])\n",
    "plt.xlabel(\"False Positive Rate\")\n",
    "plt.ylabel(\"True Positive Rate\")\n",
    "plt.title(\"ROC Curve - Logistic Regression\")\n",
    "plt.show()"
   ]
  },
  {
   "cell_type": "markdown",
   "id": "9210edfb",
   "metadata": {},
   "source": [
    "## Trying linearRegression and Ridge model"
   ]
  },
  {
   "cell_type": "code",
   "execution_count": 83,
   "id": "f04b12b5",
   "metadata": {},
   "outputs": [],
   "source": [
    "scaler = StandardScaler().fit(X_train)\n",
    "X_train_scaled = scaler.transform(X_train)\n",
    "X_test_scaled = scaler.transform(X_test)"
   ]
  },
  {
   "cell_type": "code",
   "execution_count": 84,
   "id": "a5593097",
   "metadata": {},
   "outputs": [],
   "source": [
    "from sklearn.linear_model import LinearRegression\n",
    "from sklearn.linear_model import Ridge\n",
    "    "
   ]
  },
  {
   "cell_type": "code",
   "execution_count": 85,
   "id": "4cfc3a8e",
   "metadata": {},
   "outputs": [],
   "source": [
    "list1 = [LinearRegression(), Ridge() ]"
   ]
  },
  {
   "cell_type": "code",
   "execution_count": 86,
   "id": "20717b0a",
   "metadata": {},
   "outputs": [
    {
     "name": "stdout",
     "output_type": "stream",
     "text": [
      "Model LinearRegression()\n",
      "Score: 0.009476555271365372\n",
      "\n"
     ]
    },
    {
     "data": {
      "image/png": "[encoded data removed]",
      "text/plain": [
       "<Figure size 432x288 with 1 Axes>"
      ]
     },
     "metadata": {
      "needs_background": "light"
     },
     "output_type": "display_data"
    },
    {
     "name": "stdout",
     "output_type": "stream",
     "text": [
      "Model Ridge()\n",
      "Score: 0.009469140962788392\n",
      "\n"
     ]
    },
    {
     "data": {
      "image/png": "[encoded data removed]",
      "text/plain": [
       "<Figure size 432x288 with 1 Axes>"
      ]
     },
     "metadata": {
      "needs_background": "light"
     },
     "output_type": "display_data"
    }
   ],
   "source": [
    "for z in list1:\n",
    "        reg = z.fit(X_train_scaled, y_train)\n",
    "        print(f'Model {z}')\n",
    "        print(f'Score: {reg.score(X_test_scaled, y_test)}\\n')\n",
    "        plt.bar(np.arange(len(reg.coef_)), reg.coef_)\n",
    "        plt.title(f'{z} plot')\n",
    "        plt.show()\n",
    "    "
   ]
  },
  {
   "cell_type": "code",
   "execution_count": null,
   "id": "abb3513a",
   "metadata": {},
   "outputs": [],
   "source": []
  }
 ],
 "metadata": {
  "kernelspec": {
   "display_name": "Python 3 (ipykernel)",
   "language": "python",
   "name": "python3"
  },
  "language_info": {
   "codemirror_mode": {
    "name": "ipython",
    "version": 3
   },
   "file_extension": ".py",
   "mimetype": "text/x-python",
   "name": "python",
   "nbconvert_exporter": "python",
   "pygments_lexer": "ipython3",
   "version": "3.9.12"
  }
 },
 "nbformat": 4,
 "nbformat_minor": 5
}
