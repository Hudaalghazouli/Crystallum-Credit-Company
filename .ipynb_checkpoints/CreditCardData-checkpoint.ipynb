{
 "cells": [
  {
   "cell_type": "code",
   "execution_count": 1,
   "id": "f0a159bd-aa1b-4816-8cf9-51cfa96f943c",
   "metadata": {},
   "outputs": [],
   "source": [
    "# import dependencies\n",
    "import pandas as pd\n",
    "import numpy as np\n",
    "import matplotlib.pyplot as plt\n",
    "import copy\n",
    "import math\n",
    "import statistics\n",
    "from statistics import mean\n",
    "from mpl_toolkits import mplot3d\n",
    "\n",
    "%matplotlib inline"
   ]
  },
  {
   "cell_type": "code",
   "execution_count": 2,
   "id": "85144e64-f98c-4835-b342-dcf3aa1c1371",
   "metadata": {},
   "outputs": [],
   "source": [
    "import numpy as np\n",
    "import matplotlib.pyplot as plt\n",
    "from sklearn.linear_model import SGDRegressor\n",
    "from sklearn.preprocessing import StandardScaler\n",
    "np.set_printoptions(precision=2)\n",
    "# plt.style.use('./deeplearning.mplstyle')"
   ]
  },
  {
   "cell_type": "code",
   "execution_count": 3,
   "id": "041da111-8d9a-4e0d-879c-306f168753a5",
   "metadata": {},
   "outputs": [],
   "source": [
    "pd.set_option('display.max_columns', None)"
   ]
  },
  {
   "cell_type": "code",
   "execution_count": 4,
   "id": "2a3b2a3a-b76f-41aa-bca6-f85ef80c3c1d",
   "metadata": {},
   "outputs": [],
   "source": [
    "ccCustomersCSv = pd.read_csv('Resources/BankChurners.csv')"
   ]
  },
  {
   "cell_type": "code",
   "execution_count": 5,
   "id": "5f13ec70-baa3-44c6-ab37-1ebefd589210",
   "metadata": {},
   "outputs": [
    {
     "data": {
      "text/html": [
       "<div>\n",
       "<style scoped>\n",
       "    .dataframe tbody tr th:only-of-type {\n",
       "        vertical-align: middle;\n",
       "    }\n",
       "\n",
       "    .dataframe tbody tr th {\n",
       "        vertical-align: top;\n",
       "    }\n",
       "\n",
       "    .dataframe thead th {\n",
       "        text-align: right;\n",
       "    }\n",
       "</style>\n",
       "<table border=\"1\" class=\"dataframe\">\n",
       "  <thead>\n",
       "    <tr style=\"text-align: right;\">\n",
       "      <th></th>\n",
       "      <th>CLIENTNUM</th>\n",
       "      <th>Attrition_Flag</th>\n",
       "      <th>Customer_Age</th>\n",
       "      <th>Gender</th>\n",
       "      <th>Dependent_count</th>\n",
       "      <th>Education_Level</th>\n",
       "      <th>Marital_Status</th>\n",
       "      <th>Income_Category</th>\n",
       "      <th>Card_Category</th>\n",
       "      <th>Months_on_book</th>\n",
       "      <th>Total_Relationship_Count</th>\n",
       "      <th>Months_Inactive_12_mon</th>\n",
       "      <th>Contacts_Count_12_mon</th>\n",
       "      <th>Credit_Limit</th>\n",
       "      <th>Total_Revolving_Bal</th>\n",
       "      <th>Avg_Open_To_Buy</th>\n",
       "      <th>Total_Amt_Chng_Q4_Q1</th>\n",
       "      <th>Total_Trans_Amt</th>\n",
       "      <th>Total_Trans_Ct</th>\n",
       "      <th>Total_Ct_Chng_Q4_Q1</th>\n",
       "      <th>Avg_Utilization_Ratio</th>\n",
       "      <th>Naive_Bayes_Classifier_Attrition_Flag_Card_Category_Contacts_Count_12_mon_Dependent_count_Education_Level_Months_Inactive_12_mon_1</th>\n",
       "      <th>Naive_Bayes_Classifier_Attrition_Flag_Card_Category_Contacts_Count_12_mon_Dependent_count_Education_Level_Months_Inactive_12_mon_2</th>\n",
       "    </tr>\n",
       "  </thead>\n",
       "  <tbody>\n",
       "    <tr>\n",
       "      <th>0</th>\n",
       "      <td>768805383</td>\n",
       "      <td>Existing Customer</td>\n",
       "      <td>45</td>\n",
       "      <td>M</td>\n",
       "      <td>3</td>\n",
       "      <td>High School</td>\n",
       "      <td>Married</td>\n",
       "      <td>$60K - $80K</td>\n",
       "      <td>Blue</td>\n",
       "      <td>39</td>\n",
       "      <td>5</td>\n",
       "      <td>1</td>\n",
       "      <td>3</td>\n",
       "      <td>12691.0</td>\n",
       "      <td>777</td>\n",
       "      <td>11914.0</td>\n",
       "      <td>1.335</td>\n",
       "      <td>1144</td>\n",
       "      <td>42</td>\n",
       "      <td>1.625</td>\n",
       "      <td>0.061</td>\n",
       "      <td>0.000093</td>\n",
       "      <td>0.999910</td>\n",
       "    </tr>\n",
       "    <tr>\n",
       "      <th>1</th>\n",
       "      <td>818770008</td>\n",
       "      <td>Existing Customer</td>\n",
       "      <td>49</td>\n",
       "      <td>F</td>\n",
       "      <td>5</td>\n",
       "      <td>Graduate</td>\n",
       "      <td>Single</td>\n",
       "      <td>Less than $40K</td>\n",
       "      <td>Blue</td>\n",
       "      <td>44</td>\n",
       "      <td>6</td>\n",
       "      <td>1</td>\n",
       "      <td>2</td>\n",
       "      <td>8256.0</td>\n",
       "      <td>864</td>\n",
       "      <td>7392.0</td>\n",
       "      <td>1.541</td>\n",
       "      <td>1291</td>\n",
       "      <td>33</td>\n",
       "      <td>3.714</td>\n",
       "      <td>0.105</td>\n",
       "      <td>0.000057</td>\n",
       "      <td>0.999940</td>\n",
       "    </tr>\n",
       "    <tr>\n",
       "      <th>2</th>\n",
       "      <td>713982108</td>\n",
       "      <td>Existing Customer</td>\n",
       "      <td>51</td>\n",
       "      <td>M</td>\n",
       "      <td>3</td>\n",
       "      <td>Graduate</td>\n",
       "      <td>Married</td>\n",
       "      <td>$80K - $120K</td>\n",
       "      <td>Blue</td>\n",
       "      <td>36</td>\n",
       "      <td>4</td>\n",
       "      <td>1</td>\n",
       "      <td>0</td>\n",
       "      <td>3418.0</td>\n",
       "      <td>0</td>\n",
       "      <td>3418.0</td>\n",
       "      <td>2.594</td>\n",
       "      <td>1887</td>\n",
       "      <td>20</td>\n",
       "      <td>2.333</td>\n",
       "      <td>0.000</td>\n",
       "      <td>0.000021</td>\n",
       "      <td>0.999980</td>\n",
       "    </tr>\n",
       "    <tr>\n",
       "      <th>3</th>\n",
       "      <td>769911858</td>\n",
       "      <td>Existing Customer</td>\n",
       "      <td>40</td>\n",
       "      <td>F</td>\n",
       "      <td>4</td>\n",
       "      <td>High School</td>\n",
       "      <td>Unknown</td>\n",
       "      <td>Less than $40K</td>\n",
       "      <td>Blue</td>\n",
       "      <td>34</td>\n",
       "      <td>3</td>\n",
       "      <td>4</td>\n",
       "      <td>1</td>\n",
       "      <td>3313.0</td>\n",
       "      <td>2517</td>\n",
       "      <td>796.0</td>\n",
       "      <td>1.405</td>\n",
       "      <td>1171</td>\n",
       "      <td>20</td>\n",
       "      <td>2.333</td>\n",
       "      <td>0.760</td>\n",
       "      <td>0.000134</td>\n",
       "      <td>0.999870</td>\n",
       "    </tr>\n",
       "    <tr>\n",
       "      <th>4</th>\n",
       "      <td>709106358</td>\n",
       "      <td>Existing Customer</td>\n",
       "      <td>40</td>\n",
       "      <td>M</td>\n",
       "      <td>3</td>\n",
       "      <td>Uneducated</td>\n",
       "      <td>Married</td>\n",
       "      <td>$60K - $80K</td>\n",
       "      <td>Blue</td>\n",
       "      <td>21</td>\n",
       "      <td>5</td>\n",
       "      <td>1</td>\n",
       "      <td>0</td>\n",
       "      <td>4716.0</td>\n",
       "      <td>0</td>\n",
       "      <td>4716.0</td>\n",
       "      <td>2.175</td>\n",
       "      <td>816</td>\n",
       "      <td>28</td>\n",
       "      <td>2.500</td>\n",
       "      <td>0.000</td>\n",
       "      <td>0.000022</td>\n",
       "      <td>0.999980</td>\n",
       "    </tr>\n",
       "    <tr>\n",
       "      <th>...</th>\n",
       "      <td>...</td>\n",
       "      <td>...</td>\n",
       "      <td>...</td>\n",
       "      <td>...</td>\n",
       "      <td>...</td>\n",
       "      <td>...</td>\n",
       "      <td>...</td>\n",
       "      <td>...</td>\n",
       "      <td>...</td>\n",
       "      <td>...</td>\n",
       "      <td>...</td>\n",
       "      <td>...</td>\n",
       "      <td>...</td>\n",
       "      <td>...</td>\n",
       "      <td>...</td>\n",
       "      <td>...</td>\n",
       "      <td>...</td>\n",
       "      <td>...</td>\n",
       "      <td>...</td>\n",
       "      <td>...</td>\n",
       "      <td>...</td>\n",
       "      <td>...</td>\n",
       "      <td>...</td>\n",
       "    </tr>\n",
       "    <tr>\n",
       "      <th>10122</th>\n",
       "      <td>772366833</td>\n",
       "      <td>Existing Customer</td>\n",
       "      <td>50</td>\n",
       "      <td>M</td>\n",
       "      <td>2</td>\n",
       "      <td>Graduate</td>\n",
       "      <td>Single</td>\n",
       "      <td>$40K - $60K</td>\n",
       "      <td>Blue</td>\n",
       "      <td>40</td>\n",
       "      <td>3</td>\n",
       "      <td>2</td>\n",
       "      <td>3</td>\n",
       "      <td>4003.0</td>\n",
       "      <td>1851</td>\n",
       "      <td>2152.0</td>\n",
       "      <td>0.703</td>\n",
       "      <td>15476</td>\n",
       "      <td>117</td>\n",
       "      <td>0.857</td>\n",
       "      <td>0.462</td>\n",
       "      <td>0.000191</td>\n",
       "      <td>0.999810</td>\n",
       "    </tr>\n",
       "    <tr>\n",
       "      <th>10123</th>\n",
       "      <td>710638233</td>\n",
       "      <td>Attrited Customer</td>\n",
       "      <td>41</td>\n",
       "      <td>M</td>\n",
       "      <td>2</td>\n",
       "      <td>Unknown</td>\n",
       "      <td>Divorced</td>\n",
       "      <td>$40K - $60K</td>\n",
       "      <td>Blue</td>\n",
       "      <td>25</td>\n",
       "      <td>4</td>\n",
       "      <td>2</td>\n",
       "      <td>3</td>\n",
       "      <td>4277.0</td>\n",
       "      <td>2186</td>\n",
       "      <td>2091.0</td>\n",
       "      <td>0.804</td>\n",
       "      <td>8764</td>\n",
       "      <td>69</td>\n",
       "      <td>0.683</td>\n",
       "      <td>0.511</td>\n",
       "      <td>0.995270</td>\n",
       "      <td>0.004729</td>\n",
       "    </tr>\n",
       "    <tr>\n",
       "      <th>10124</th>\n",
       "      <td>716506083</td>\n",
       "      <td>Attrited Customer</td>\n",
       "      <td>44</td>\n",
       "      <td>F</td>\n",
       "      <td>1</td>\n",
       "      <td>High School</td>\n",
       "      <td>Married</td>\n",
       "      <td>Less than $40K</td>\n",
       "      <td>Blue</td>\n",
       "      <td>36</td>\n",
       "      <td>5</td>\n",
       "      <td>3</td>\n",
       "      <td>4</td>\n",
       "      <td>5409.0</td>\n",
       "      <td>0</td>\n",
       "      <td>5409.0</td>\n",
       "      <td>0.819</td>\n",
       "      <td>10291</td>\n",
       "      <td>60</td>\n",
       "      <td>0.818</td>\n",
       "      <td>0.000</td>\n",
       "      <td>0.997880</td>\n",
       "      <td>0.002118</td>\n",
       "    </tr>\n",
       "    <tr>\n",
       "      <th>10125</th>\n",
       "      <td>717406983</td>\n",
       "      <td>Attrited Customer</td>\n",
       "      <td>30</td>\n",
       "      <td>M</td>\n",
       "      <td>2</td>\n",
       "      <td>Graduate</td>\n",
       "      <td>Unknown</td>\n",
       "      <td>$40K - $60K</td>\n",
       "      <td>Blue</td>\n",
       "      <td>36</td>\n",
       "      <td>4</td>\n",
       "      <td>3</td>\n",
       "      <td>3</td>\n",
       "      <td>5281.0</td>\n",
       "      <td>0</td>\n",
       "      <td>5281.0</td>\n",
       "      <td>0.535</td>\n",
       "      <td>8395</td>\n",
       "      <td>62</td>\n",
       "      <td>0.722</td>\n",
       "      <td>0.000</td>\n",
       "      <td>0.996710</td>\n",
       "      <td>0.003294</td>\n",
       "    </tr>\n",
       "    <tr>\n",
       "      <th>10126</th>\n",
       "      <td>714337233</td>\n",
       "      <td>Attrited Customer</td>\n",
       "      <td>43</td>\n",
       "      <td>F</td>\n",
       "      <td>2</td>\n",
       "      <td>Graduate</td>\n",
       "      <td>Married</td>\n",
       "      <td>Less than $40K</td>\n",
       "      <td>Silver</td>\n",
       "      <td>25</td>\n",
       "      <td>6</td>\n",
       "      <td>2</td>\n",
       "      <td>4</td>\n",
       "      <td>10388.0</td>\n",
       "      <td>1961</td>\n",
       "      <td>8427.0</td>\n",
       "      <td>0.703</td>\n",
       "      <td>10294</td>\n",
       "      <td>61</td>\n",
       "      <td>0.649</td>\n",
       "      <td>0.189</td>\n",
       "      <td>0.996620</td>\n",
       "      <td>0.003377</td>\n",
       "    </tr>\n",
       "  </tbody>\n",
       "</table>\n",
       "<p>10127 rows × 23 columns</p>\n",
       "</div>"
      ],
      "text/plain": [
       "       CLIENTNUM     Attrition_Flag  Customer_Age Gender  Dependent_count  \\\n",
       "0      768805383  Existing Customer            45      M                3   \n",
       "1      818770008  Existing Customer            49      F                5   \n",
       "2      713982108  Existing Customer            51      M                3   \n",
       "3      769911858  Existing Customer            40      F                4   \n",
       "4      709106358  Existing Customer            40      M                3   \n",
       "...          ...                ...           ...    ...              ...   \n",
       "10122  772366833  Existing Customer            50      M                2   \n",
       "10123  710638233  Attrited Customer            41      M                2   \n",
       "10124  716506083  Attrited Customer            44      F                1   \n",
       "10125  717406983  Attrited Customer            30      M                2   \n",
       "10126  714337233  Attrited Customer            43      F                2   \n",
       "\n",
       "      Education_Level Marital_Status Income_Category Card_Category  \\\n",
       "0         High School        Married     $60K - $80K          Blue   \n",
       "1            Graduate         Single  Less than $40K          Blue   \n",
       "2            Graduate        Married    $80K - $120K          Blue   \n",
       "3         High School        Unknown  Less than $40K          Blue   \n",
       "4          Uneducated        Married     $60K - $80K          Blue   \n",
       "...               ...            ...             ...           ...   \n",
       "10122        Graduate         Single     $40K - $60K          Blue   \n",
       "10123         Unknown       Divorced     $40K - $60K          Blue   \n",
       "10124     High School        Married  Less than $40K          Blue   \n",
       "10125        Graduate        Unknown     $40K - $60K          Blue   \n",
       "10126        Graduate        Married  Less than $40K        Silver   \n",
       "\n",
       "       Months_on_book  Total_Relationship_Count  Months_Inactive_12_mon  \\\n",
       "0                  39                         5                       1   \n",
       "1                  44                         6                       1   \n",
       "2                  36                         4                       1   \n",
       "3                  34                         3                       4   \n",
       "4                  21                         5                       1   \n",
       "...               ...                       ...                     ...   \n",
       "10122              40                         3                       2   \n",
       "10123              25                         4                       2   \n",
       "10124              36                         5                       3   \n",
       "10125              36                         4                       3   \n",
       "10126              25                         6                       2   \n",
       "\n",
       "       Contacts_Count_12_mon  Credit_Limit  Total_Revolving_Bal  \\\n",
       "0                          3       12691.0                  777   \n",
       "1                          2        8256.0                  864   \n",
       "2                          0        3418.0                    0   \n",
       "3                          1        3313.0                 2517   \n",
       "4                          0        4716.0                    0   \n",
       "...                      ...           ...                  ...   \n",
       "10122                      3        4003.0                 1851   \n",
       "10123                      3        4277.0                 2186   \n",
       "10124                      4        5409.0                    0   \n",
       "10125                      3        5281.0                    0   \n",
       "10126                      4       10388.0                 1961   \n",
       "\n",
       "       Avg_Open_To_Buy  Total_Amt_Chng_Q4_Q1  Total_Trans_Amt  Total_Trans_Ct  \\\n",
       "0              11914.0                 1.335             1144              42   \n",
       "1               7392.0                 1.541             1291              33   \n",
       "2               3418.0                 2.594             1887              20   \n",
       "3                796.0                 1.405             1171              20   \n",
       "4               4716.0                 2.175              816              28   \n",
       "...                ...                   ...              ...             ...   \n",
       "10122           2152.0                 0.703            15476             117   \n",
       "10123           2091.0                 0.804             8764              69   \n",
       "10124           5409.0                 0.819            10291              60   \n",
       "10125           5281.0                 0.535             8395              62   \n",
       "10126           8427.0                 0.703            10294              61   \n",
       "\n",
       "       Total_Ct_Chng_Q4_Q1  Avg_Utilization_Ratio  \\\n",
       "0                    1.625                  0.061   \n",
       "1                    3.714                  0.105   \n",
       "2                    2.333                  0.000   \n",
       "3                    2.333                  0.760   \n",
       "4                    2.500                  0.000   \n",
       "...                    ...                    ...   \n",
       "10122                0.857                  0.462   \n",
       "10123                0.683                  0.511   \n",
       "10124                0.818                  0.000   \n",
       "10125                0.722                  0.000   \n",
       "10126                0.649                  0.189   \n",
       "\n",
       "       Naive_Bayes_Classifier_Attrition_Flag_Card_Category_Contacts_Count_12_mon_Dependent_count_Education_Level_Months_Inactive_12_mon_1  \\\n",
       "0                                               0.000093                                                                                    \n",
       "1                                               0.000057                                                                                    \n",
       "2                                               0.000021                                                                                    \n",
       "3                                               0.000134                                                                                    \n",
       "4                                               0.000022                                                                                    \n",
       "...                                                  ...                                                                                    \n",
       "10122                                           0.000191                                                                                    \n",
       "10123                                           0.995270                                                                                    \n",
       "10124                                           0.997880                                                                                    \n",
       "10125                                           0.996710                                                                                    \n",
       "10126                                           0.996620                                                                                    \n",
       "\n",
       "       Naive_Bayes_Classifier_Attrition_Flag_Card_Category_Contacts_Count_12_mon_Dependent_count_Education_Level_Months_Inactive_12_mon_2  \n",
       "0                                               0.999910                                                                                   \n",
       "1                                               0.999940                                                                                   \n",
       "2                                               0.999980                                                                                   \n",
       "3                                               0.999870                                                                                   \n",
       "4                                               0.999980                                                                                   \n",
       "...                                                  ...                                                                                   \n",
       "10122                                           0.999810                                                                                   \n",
       "10123                                           0.004729                                                                                   \n",
       "10124                                           0.002118                                                                                   \n",
       "10125                                           0.003294                                                                                   \n",
       "10126                                           0.003377                                                                                   \n",
       "\n",
       "[10127 rows x 23 columns]"
      ]
     },
     "execution_count": 5,
     "metadata": {},
     "output_type": "execute_result"
    }
   ],
   "source": [
    "ccCustomersCSv"
   ]
  },
  {
   "cell_type": "code",
   "execution_count": 6,
   "id": "981f5489-0011-4670-b997-580ec0d9f48d",
   "metadata": {},
   "outputs": [
    {
     "name": "stderr",
     "output_type": "stream",
     "text": [
      "/var/folders/4b/ltxykyrn7j9bt96tg5cjy76h0000gn/T/ipykernel_99784/117354373.py:3: UserWarning: Boolean Series key will be reindexed to match DataFrame index.\n",
      "  filtered_df = filtered_df[ccCustomersCSv['Education_Level'].str.contains('Unknown')== False]\n"
     ]
    }
   ],
   "source": [
    "# some rows have the value 'Unknown' in the income category & educatin level columns, filtering those out\n",
    "filtered_df = ccCustomersCSv[ccCustomersCSv['Income_Category'].str.contains('Unknown')== False]\n",
    "filtered_df = filtered_df[ccCustomersCSv['Education_Level'].str.contains('Unknown')== False]"
   ]
  },
  {
   "cell_type": "code",
   "execution_count": 7,
   "id": "dc2d7795-9384-449e-801a-3866dde802e6",
   "metadata": {},
   "outputs": [],
   "source": [
    "# Change the values in the Income Category column to numerical values, we picked the value that fell between specified range\n",
    "filtered_df.loc[filtered_df['Income_Category']== '$60K - $80K', 'Income_Category'] = 70000\n",
    "filtered_df.loc[filtered_df['Income_Category']== 'Less than $40K', 'Income_Category'] = 20000\n",
    "filtered_df.loc[filtered_df['Income_Category']== '$80K - $120K', 'Income_Category'] = 100000\n",
    "filtered_df.loc[filtered_df['Income_Category']== '$40K - $60K', 'Income_Category'] = 50000\n",
    "filtered_df.loc[filtered_df['Income_Category']== '$120K +', 'Income_Category'] = 120000"
   ]
  },
  {
   "cell_type": "markdown",
   "id": "9081c0ff-176e-478d-bbd0-4d473a121cf2",
   "metadata": {},
   "source": [
    "### Below, we are testing the weight of education level and marital status on credit limit. We are changing values to numbers based on the below qualities.\n",
    "    - the higher your education the higher the number you get\n",
    "    - Married gets the highest number, followed by single and so on (kind of based on stability, we'd imagine a single person to be more stable than a divorced person)"
   ]
  },
  {
   "cell_type": "code",
   "execution_count": 8,
   "id": "758f44df-70e2-4886-90f9-bf3b61e65008",
   "metadata": {},
   "outputs": [],
   "source": [
    "filtered_df.loc[filtered_df['Education_Level']== 'High School', 'Education_Level'] = 0.50\n",
    "filtered_df.loc[filtered_df['Education_Level']== 'Graduate', 'Education_Level'] = 0.70\n",
    "filtered_df.loc[filtered_df['Education_Level']== 'Uneducated', 'Education_Level'] = 0.25\n",
    "filtered_df.loc[filtered_df['Education_Level']== 'College', 'Education_Level'] = 0.60\n",
    "filtered_df.loc[filtered_df['Education_Level']== 'Post-Graduate', 'Education_Level'] = 0.80\n",
    "filtered_df.loc[filtered_df['Education_Level']== 'Doctorate', 'Education_Level'] = 0.90"
   ]
  },
  {
   "cell_type": "code",
   "execution_count": 9,
   "id": "3edb42aa-a7d3-4c60-9714-6dcc60f0d5e9",
   "metadata": {},
   "outputs": [],
   "source": [
    "#  Changing marital status to numbers\n",
    "filtered_df.loc[filtered_df['Marital_Status']== 'Married', 'Marital_Status'] = 0.90\n",
    "filtered_df.loc[filtered_df['Marital_Status']== 'Single', 'Marital_Status'] = 0.80\n",
    "filtered_df.loc[filtered_df['Marital_Status']== 'Divorced', 'Marital_Status'] = 0.70\n",
    "filtered_df.loc[filtered_df['Marital_Status']== 'Unknown', 'Marital_Status'] = 0.80"
   ]
  },
  {
   "cell_type": "markdown",
   "id": "4ad5c00a-fac2-4202-b738-91f78b18243e",
   "metadata": {},
   "source": [
    "### Creating Our Score\n",
    "- The below for loop is looping through, grabbing the following features(x values) to predict credit limit:\n",
    "    1. Avg_Utilization_Ratio == newDF.iloc[i,20]\n",
    "    1. Dependent_count ==  newDF.iloc[i,4]\n",
    "    1. Education_Level == newDF.iloc[i,5]\n",
    "    1. Marital_Status == newDF.iloc[i,6]\n",
    "    1. Months_on_book == newDF.iloc[i,9]\n",
    "- and the following targets for each individual to train model with:\n",
    "    1. Credit limit == newDF.iloc[i,13]\n",
    "    "
   ]
  },
  {
   "cell_type": "code",
   "execution_count": 10,
   "id": "f7982c81-f407-49bb-8aec-146ced563c75",
   "metadata": {},
   "outputs": [],
   "source": [
    "# Create Dataframe to test out transformed features\n",
    "newDF = filtered_df.copy()"
   ]
  },
  {
   "cell_type": "code",
   "execution_count": 11,
   "id": "2bedbfda-25ec-42a3-8156-2c4ea5212ce8",
   "metadata": {},
   "outputs": [],
   "source": [
    "# Creating this column so we have values to visualize the relationship of our created score to customer's credit limit\n",
    "newDF['Transformed'] = (newDF['Avg_Utilization_Ratio'] * newDF['Dependent_count'] * newDF['Education_Level']* newDF['Marital_Status'] * newDF['Months_on_book']) /10"
   ]
  },
  {
   "cell_type": "code",
   "execution_count": 12,
   "id": "62c0d788-9302-4198-b545-aae311d0432f",
   "metadata": {},
   "outputs": [
    {
     "name": "stdout",
     "output_type": "stream",
     "text": [
      "[[0.061, 3, 0.5, 0.9, 39], [0.105, 5, 0.7, 0.8, 44], [0.0, 3, 0.7, 0.9, 36], [0.76, 4, 0.5, 0.8, 34], [0.0, 3, 0.25, 0.9, 21]]\n",
      "[12691.0, 8256.0, 3418.0, 3313.0, 4716.0]\n"
     ]
    }
   ],
   "source": [
    "# create empty list\n",
    "features = []\n",
    "targets = []\n",
    "\n",
    "# for loop to create feature lists to add to above created list\n",
    "\n",
    "for i in range(len(newDF)):\n",
    "    feature = []\n",
    "    credLimitY = ''\n",
    "    \n",
    "    credLimitY = newDF.iloc[i,13]\n",
    "    feature.append(newDF.iloc[i,20])\n",
    "    feature.append(newDF.iloc[i,4])\n",
    "    feature.append(newDF.iloc[i,5])\n",
    "    feature.append(newDF.iloc[i,6])\n",
    "    feature.append(newDF.iloc[i,9]) \n",
    "    # feature.append(newDF.iloc[i,8])\n",
    "    \n",
    "    features.append(feature)\n",
    "    targets.append(credLimitY)\n",
    "    \n",
    "print(features[:5])\n",
    "print(targets[:5])"
   ]
  },
  {
   "cell_type": "code",
   "execution_count": 13,
   "id": "522dd233-2b51-456e-ae0d-dafaed24d76b",
   "metadata": {},
   "outputs": [],
   "source": [
    "b_init = 9000\n",
    "w_init = np.array([ 0.1, 0.01, 0.2, 0.3,0.5])"
   ]
  },
  {
   "cell_type": "code",
   "execution_count": 14,
   "id": "3f64c493",
   "metadata": {},
   "outputs": [
    {
     "name": "stdout",
     "output_type": "stream",
     "text": [
      "<class 'pandas.core.frame.DataFrame'>\n",
      "Int64Index: 7641 entries, 0 to 10126\n",
      "Data columns (total 24 columns):\n",
      " #   Column                                                                                                                              Non-Null Count  Dtype  \n",
      "---  ------                                                                                                                              --------------  -----  \n",
      " 0   CLIENTNUM                                                                                                                           7641 non-null   int64  \n",
      " 1   Attrition_Flag                                                                                                                      7641 non-null   object \n",
      " 2   Customer_Age                                                                                                                        7641 non-null   int64  \n",
      " 3   Gender                                                                                                                              7641 non-null   object \n",
      " 4   Dependent_count                                                                                                                     7641 non-null   int64  \n",
      " 5   Education_Level                                                                                                                     7641 non-null   object \n",
      " 6   Marital_Status                                                                                                                      7641 non-null   object \n",
      " 7   Income_Category                                                                                                                     7641 non-null   object \n",
      " 8   Card_Category                                                                                                                       7641 non-null   object \n",
      " 9   Months_on_book                                                                                                                      7641 non-null   int64  \n",
      " 10  Total_Relationship_Count                                                                                                            7641 non-null   int64  \n",
      " 11  Months_Inactive_12_mon                                                                                                              7641 non-null   int64  \n",
      " 12  Contacts_Count_12_mon                                                                                                               7641 non-null   int64  \n",
      " 13  Credit_Limit                                                                                                                        7641 non-null   float64\n",
      " 14  Total_Revolving_Bal                                                                                                                 7641 non-null   int64  \n",
      " 15  Avg_Open_To_Buy                                                                                                                     7641 non-null   float64\n",
      " 16  Total_Amt_Chng_Q4_Q1                                                                                                                7641 non-null   float64\n",
      " 17  Total_Trans_Amt                                                                                                                     7641 non-null   int64  \n",
      " 18  Total_Trans_Ct                                                                                                                      7641 non-null   int64  \n",
      " 19  Total_Ct_Chng_Q4_Q1                                                                                                                 7641 non-null   float64\n",
      " 20  Avg_Utilization_Ratio                                                                                                               7641 non-null   float64\n",
      " 21  Naive_Bayes_Classifier_Attrition_Flag_Card_Category_Contacts_Count_12_mon_Dependent_count_Education_Level_Months_Inactive_12_mon_1  7641 non-null   float64\n",
      " 22  Naive_Bayes_Classifier_Attrition_Flag_Card_Category_Contacts_Count_12_mon_Dependent_count_Education_Level_Months_Inactive_12_mon_2  7641 non-null   float64\n",
      " 23  Transformed                                                                                                                         7641 non-null   object \n",
      "dtypes: float64(7), int64(10), object(7)\n",
      "memory usage: 1.5+ MB\n"
     ]
    }
   ],
   "source": [
    "# display basic info about ccCustomersCSv\n",
    "newDF.info()"
   ]
  },
  {
   "cell_type": "code",
   "execution_count": 15,
   "id": "0a5eff9e-e8f4-4004-a6f4-0e3423a236a8",
   "metadata": {},
   "outputs": [],
   "source": [
    "creditLimit = newDF['Credit_Limit']\n",
    "avg_Utilization_Ratio = newDF['Avg_Utilization_Ratio']"
   ]
  },
  {
   "cell_type": "markdown",
   "id": "e3a4768e-ed13-4e1d-9803-06e6dc5d3439",
   "metadata": {},
   "source": [
    "### Showing a trend below we could use to train a model with just credit limit on being able to predict Average utilization ratio below"
   ]
  },
  {
   "cell_type": "code",
   "execution_count": 16,
   "id": "3b5f0eac-0a1c-427d-98a0-48306b811abd",
   "metadata": {},
   "outputs": [
    {
     "data": {
      "image/png": "[encoded data removed]",
      "text/plain": [
       "<Figure size 432x288 with 1 Axes>"
      ]
     },
     "metadata": {
      "needs_background": "light"
     },
     "output_type": "display_data"
    }
   ],
   "source": [
    "figure1, figure1_axes = plt.subplots()\n",
    "figure1_axes.plot(creditLimit, avg_Utilization_Ratio, 'go',)\n",
    "figure1_axes.set_xlabel('Credit Limit')\n",
    "figure1_axes.set_ylabel('Avg Utilization Ratio')\n",
    "figure1_axes.set_title('Predicting Utilization with Credit Limit');"
   ]
  },
  {
   "cell_type": "markdown",
   "id": "d83be98c-cbed-4078-8e91-5b3d844d973e",
   "metadata": {},
   "source": [
    "## Comparing Data\n",
    "\n",
    "The below shows our created score vs customer credit limit,\n",
    "\n",
    "Our score = 'Avg_Utilization_Ratio' * 'Dependent_count' * 'Education_Level'* 'Marital_Status' * 'Months_on_book'"
   ]
  },
  {
   "cell_type": "code",
   "execution_count": 17,
   "id": "5bb619d5-4999-40c4-908d-6af37aeb23a4",
   "metadata": {},
   "outputs": [],
   "source": [
    "ourScore = newDF['Transformed']"
   ]
  },
  {
   "cell_type": "code",
   "execution_count": 18,
   "id": "4186c60f-53a5-4f67-ae70-c1e02c38259c",
   "metadata": {},
   "outputs": [
    {
     "data": {
      "image/png": "[encoded data removed]",
      "text/plain": [
       "<Figure size 432x288 with 1 Axes>"
      ]
     },
     "metadata": {
      "needs_background": "light"
     },
     "output_type": "display_data"
    }
   ],
   "source": [
    "figure1, figure1_axes = plt.subplots()\n",
    "figure1_axes.plot(ourScore, creditLimit, 'go',)\n",
    "figure1_axes.set_xlabel('Our Score')\n",
    "figure1_axes.set_ylabel('Credit Limit')\n",
    "figure1_axes.set_title('Predicting Credit Limit with Income');"
   ]
  },
  {
   "cell_type": "markdown",
   "id": "45ca2cbd-cb15-400a-87d1-19c6a5a077e4",
   "metadata": {},
   "source": [
    "## We found that it is not possible to predict credit limit with just income info"
   ]
  },
  {
   "cell_type": "code",
   "execution_count": null,
   "id": "c2d6c991-a82a-405f-83f5-3d6587138f90",
   "metadata": {},
   "outputs": [],
   "source": []
  },
  {
   "cell_type": "code",
   "execution_count": 19,
   "id": "dbdac499-b907-443a-9c67-dd8f03b4c187",
   "metadata": {},
   "outputs": [],
   "source": [
    "creditLimit = newDF['Credit_Limit']\n",
    "income = newDF['Income_Category']"
   ]
  },
  {
   "cell_type": "code",
   "execution_count": 20,
   "id": "516b6d6a-2fa6-4ce6-b0ca-92070e57c33a",
   "metadata": {},
   "outputs": [
    {
     "data": {
      "image/png": "[encoded data removed]",
      "text/plain": [
       "<Figure size 432x288 with 1 Axes>"
      ]
     },
     "metadata": {
      "needs_background": "light"
     },
     "output_type": "display_data"
    }
   ],
   "source": [
    "figure1, figure1_axes = plt.subplots()\n",
    "figure1_axes.plot(income, creditLimit, 'go',)\n",
    "figure1_axes.set_xlabel('Income')\n",
    "figure1_axes.set_ylabel('Credit Limit')\n",
    "figure1_axes.set_title('Predicting Credit Limit with Income');"
   ]
  },
  {
   "cell_type": "markdown",
   "id": "52a067d8-a1e6-4b57-b03a-df123dcc3f0d",
   "metadata": {},
   "source": [
    "## Training our Model"
   ]
  },
  {
   "cell_type": "code",
   "execution_count": 21,
   "id": "6f83ab57-961e-486c-800f-0f9cc7c4fe63",
   "metadata": {},
   "outputs": [],
   "source": [
    "# Turn features and targets lists into numpy arrays\n",
    "x_arr1 = np.array(features)\n",
    "y_arr1 = np.array(targets)"
   ]
  },
  {
   "cell_type": "code",
   "execution_count": 22,
   "id": "0eb2a233-489e-4fb6-b8e6-08d9fa2017fa",
   "metadata": {},
   "outputs": [
    {
     "name": "stdout",
     "output_type": "stream",
     "text": [
      "Peak to Peak range by column in Raw        X:[ 1.    5.    0.65  0.2  43.  ]\n",
      "Peak to Peak range by column in Normalized X:[3.59 3.87 3.55 3.21 5.41]\n"
     ]
    }
   ],
   "source": [
    "scaler = StandardScaler()\n",
    "X_norm = scaler.fit_transform(x_arr1)\n",
    "print(f\"Peak to Peak range by column in Raw        X:{np.ptp(x_arr1,axis=0)}\")   \n",
    "print(f\"Peak to Peak range by column in Normalized X:{np.ptp(X_norm,axis=0)}\")"
   ]
  },
  {
   "cell_type": "code",
   "execution_count": 23,
   "id": "f23effc1-97f0-41a7-946a-6e24156aa69e",
   "metadata": {},
   "outputs": [
    {
     "name": "stdout",
     "output_type": "stream",
     "text": [
      "SGDRegressor(max_iter=10000)\n",
      "number of iterations completed: 8, number of weight updates: 61129.0\n"
     ]
    }
   ],
   "source": [
    "sgdr = SGDRegressor(max_iter=10000)\n",
    "sgdr.fit(X_norm, creditLimit)\n",
    "print(sgdr)\n",
    "print(f\"number of iterations completed: {sgdr.n_iter_}, number of weight updates: {sgdr.t_}\")"
   ]
  },
  {
   "cell_type": "code",
   "execution_count": 24,
   "id": "b5441075-0de9-4518-83ca-7df2051baa57",
   "metadata": {},
   "outputs": [
    {
     "name": "stdout",
     "output_type": "stream",
     "text": [
      "model parameters:                   w: [-4490.05   589.71  -174.72  -182.46   214.32], b:[8616.88]\n"
     ]
    }
   ],
   "source": [
    "b_norm = sgdr.intercept_\n",
    "w_norm = sgdr.coef_\n",
    "print(f\"model parameters:                   w: {w_norm}, b:{b_norm}\")"
   ]
  },
  {
   "cell_type": "code",
   "execution_count": 25,
   "id": "cee2e9bd-1bb5-41df-a575-340d81f97c57",
   "metadata": {},
   "outputs": [
    {
     "name": "stdout",
     "output_type": "stream",
     "text": [
      "prediction using np.dot() and sgdr.predict match: True\n",
      "Prediction on training set:\n",
      "[12440.42 12881.23 13153.12  1771.55]\n",
      "Target values \n",
      "[12691.  8256.  3418.  3313.]\n"
     ]
    }
   ],
   "source": [
    "# make a prediction using sgdr.predict()\n",
    "y_pred_sgd = sgdr.predict(X_norm)\n",
    "# make a prediction using w,b. \n",
    "y_pred = np.dot(X_norm, w_norm) + b_norm  \n",
    "print(f\"prediction using np.dot() and sgdr.predict match: {(y_pred == y_pred_sgd).all()}\")\n",
    "\n",
    "print(f\"Prediction on training set:\\n{y_pred[:4]}\" )\n",
    "print(f\"Target values \\n{y_arr1[:4]}\")"
   ]
  },
  {
   "cell_type": "code",
   "execution_count": null,
   "id": "6b4cd8d0-d3c3-482c-9855-ef38ba631405",
   "metadata": {},
   "outputs": [],
   "source": []
  }
 ],
 "metadata": {
  "kernelspec": {
   "display_name": "Python 3 (ipykernel)",
   "language": "python",
   "name": "python3"
  },
  "language_info": {
   "codemirror_mode": {
    "name": "ipython",
    "version": 3
   },
   "file_extension": ".py",
   "mimetype": "text/x-python",
   "name": "python",
   "nbconvert_exporter": "python",
   "pygments_lexer": "ipython3",
   "version": "3.9.9"
  }
 },
 "nbformat": 4,
 "nbformat_minor": 5
}
